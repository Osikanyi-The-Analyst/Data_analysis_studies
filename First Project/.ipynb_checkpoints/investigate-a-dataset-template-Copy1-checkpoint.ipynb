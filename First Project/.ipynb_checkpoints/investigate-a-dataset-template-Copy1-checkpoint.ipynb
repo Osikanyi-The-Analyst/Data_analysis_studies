{
 "cells": [
  {
   "cell_type": "markdown",
   "metadata": {},
   "source": [
    "> **Tip**: Welcome to the Investigate a Dataset project! You will find tips in quoted sections like this to help organize your approach to your investigation. Before submitting your project, it will be a good idea to go back through your report and remove these sections to make the presentation of your work as tidy as possible. First things first, you might want to double-click this Markdown cell and change the title so that it reflects your dataset and investigation.\n",
    "\n",
    "# Project: TMDB MOVIE DATA ANALYSIS\n",
    "\n",
    "## Table of Contents\n",
    "<ul>\n",
    "<li><a href=\"#intro\">Introduction</a></li>\n",
    "<li><a href=\"#wrangling\">Data Wrangling</a></li>\n",
    "<li><a href=\"#eda\">Exploratory Data Analysis</a></li>\n",
    "<li><a href=\"#conclusions\">Conclusions</a></li>\n",
    "</ul>"
   ]
  },
  {
   "cell_type": "markdown",
   "metadata": {},
   "source": [
    "<a id='intro'></a>\n",
    "## Introduction\n",
    "\n",
    "> **Tip**: In this section of the report, provide a brief introduction to the dataset you've selected for analysis. At the end of this section, describe the questions that you plan on exploring over the course of the report. Try to build your report around the analysis of at least one dependent variable and three independent variables.\n",
    ">\n",
    "> If you haven't yet selected and downloaded your data, make sure you do that first before coming back here. If you're not sure what questions to ask right now, then make sure you familiarize yourself with the variables and the dataset context for ideas of what to explore."
   ]
  },
  {
   "cell_type": "markdown",
   "metadata": {},
   "source": [
    "## Details on the columns of the dataset.\n",
    "\n",
    " >Here is a General description of the columns in the dataset.\n",
    " The dataset comes with 21 columns ranging from id, revenue, genres among others.\n",
    "\n",
    "|  | Column | Description |\n",
    "|--| --- | --- |\n",
    "| 1 | id | ID for each movie |\n",
    "| 2 | imdb_id | Unique ID for IMDB database system |\n",
    "| 3 | popularity | How popular the movie is |\n",
    "| 4 | budget | Money spent on producing the movie |\n",
    "| 5 | revenue | Money generated from producing movie |\n",
    "| 6 | original_title | Title of the Movie |\n",
    "| 7 | cast | Actors and/or Actress in Movie|\n",
    "| 8 | homepage | Website for Movie |\n",
    "| 9 | director | Director of the Movie |\n",
    "| 10 | tagline | Tag for the Movie |\n",
    "| 11 | keywords | Words that describe the movie content |\n",
    "| 12 | overview | General Movie Information |\n",
    "| 13 | runtime | Length of the movie in mintues |\n",
    "| 14 | genres | Class or genre of the movie |\n",
    "| 15 | production_companies | Companies involved in movie production |\n",
    "| 16 | release_date | Date the movie was released|\n",
    "| 17 | vote_count | Number of people who reviewed the movie |\n",
    "| 18 | vote_average | Average score movie review score |\n",
    "| 19 | release_year | Year that the movie was released |\n",
    "| 20 | budget_adj | budget adjusted for inflation in 2010  |\n",
    "| 21 | revenue_adj | revenue adjusted for inflation in 2010 |\n"
   ]
  },
  {
   "cell_type": "code",
   "execution_count": 1,
   "metadata": {},
   "outputs": [],
   "source": [
    "# Here I import packages that I plan to use in this data analysis.\n",
    "\n",
    "import pandas as pd\n",
    "import numpy as np\n",
    "import matplotlib.pyplot as plt\n",
    "import seaborn as sns\n",
    "%matplotlib inline\n"
   ]
  },
  {
   "cell_type": "markdown",
   "metadata": {},
   "source": [
    "<a id='wrangling'></a>\n",
    "## Data Wrangling\n",
    "\n",
    "> **Tip**: In this section of the report, you will load in the data, check for cleanliness, and then trim and clean your dataset for analysis. Make sure that you document your steps carefully and justify your cleaning decisions.\n",
    "\n",
    "### General Properties"
   ]
  },
  {
   "cell_type": "code",
   "execution_count": 2,
   "metadata": {},
   "outputs": [],
   "source": [
    "# Load your data and print out a few lines. Perform operations to inspect data\n",
    "#   types and look for instances of missing or possibly errant data.\n"
   ]
  },
  {
   "cell_type": "code",
   "execution_count": 3,
   "metadata": {
    "scrolled": true
   },
   "outputs": [
    {
     "data": {
      "text/html": [
       "<div>\n",
       "<style scoped>\n",
       "    .dataframe tbody tr th:only-of-type {\n",
       "        vertical-align: middle;\n",
       "    }\n",
       "\n",
       "    .dataframe tbody tr th {\n",
       "        vertical-align: top;\n",
       "    }\n",
       "\n",
       "    .dataframe thead th {\n",
       "        text-align: right;\n",
       "    }\n",
       "</style>\n",
       "<table border=\"1\" class=\"dataframe\">\n",
       "  <thead>\n",
       "    <tr style=\"text-align: right;\">\n",
       "      <th></th>\n",
       "      <th>id</th>\n",
       "      <th>imdb_id</th>\n",
       "      <th>popularity</th>\n",
       "      <th>budget</th>\n",
       "      <th>revenue</th>\n",
       "      <th>original_title</th>\n",
       "      <th>cast</th>\n",
       "      <th>homepage</th>\n",
       "      <th>director</th>\n",
       "      <th>tagline</th>\n",
       "      <th>...</th>\n",
       "      <th>overview</th>\n",
       "      <th>runtime</th>\n",
       "      <th>genres</th>\n",
       "      <th>production_companies</th>\n",
       "      <th>release_date</th>\n",
       "      <th>vote_count</th>\n",
       "      <th>vote_average</th>\n",
       "      <th>release_year</th>\n",
       "      <th>budget_adj</th>\n",
       "      <th>revenue_adj</th>\n",
       "    </tr>\n",
       "  </thead>\n",
       "  <tbody>\n",
       "    <tr>\n",
       "      <th>0</th>\n",
       "      <td>135397</td>\n",
       "      <td>tt0369610</td>\n",
       "      <td>32.985763</td>\n",
       "      <td>150000000</td>\n",
       "      <td>1513528810</td>\n",
       "      <td>Jurassic World</td>\n",
       "      <td>Chris Pratt|Bryce Dallas Howard|Irrfan Khan|Vi...</td>\n",
       "      <td>http://www.jurassicworld.com/</td>\n",
       "      <td>Colin Trevorrow</td>\n",
       "      <td>The park is open.</td>\n",
       "      <td>...</td>\n",
       "      <td>Twenty-two years after the events of Jurassic ...</td>\n",
       "      <td>124</td>\n",
       "      <td>Action|Adventure|Science Fiction|Thriller</td>\n",
       "      <td>Universal Studios|Amblin Entertainment|Legenda...</td>\n",
       "      <td>6/9/15</td>\n",
       "      <td>5562</td>\n",
       "      <td>6.5</td>\n",
       "      <td>2015</td>\n",
       "      <td>1.379999e+08</td>\n",
       "      <td>1.392446e+09</td>\n",
       "    </tr>\n",
       "    <tr>\n",
       "      <th>1</th>\n",
       "      <td>76341</td>\n",
       "      <td>tt1392190</td>\n",
       "      <td>28.419936</td>\n",
       "      <td>150000000</td>\n",
       "      <td>378436354</td>\n",
       "      <td>Mad Max: Fury Road</td>\n",
       "      <td>Tom Hardy|Charlize Theron|Hugh Keays-Byrne|Nic...</td>\n",
       "      <td>http://www.madmaxmovie.com/</td>\n",
       "      <td>George Miller</td>\n",
       "      <td>What a Lovely Day.</td>\n",
       "      <td>...</td>\n",
       "      <td>An apocalyptic story set in the furthest reach...</td>\n",
       "      <td>120</td>\n",
       "      <td>Action|Adventure|Science Fiction|Thriller</td>\n",
       "      <td>Village Roadshow Pictures|Kennedy Miller Produ...</td>\n",
       "      <td>5/13/15</td>\n",
       "      <td>6185</td>\n",
       "      <td>7.1</td>\n",
       "      <td>2015</td>\n",
       "      <td>1.379999e+08</td>\n",
       "      <td>3.481613e+08</td>\n",
       "    </tr>\n",
       "    <tr>\n",
       "      <th>2</th>\n",
       "      <td>262500</td>\n",
       "      <td>tt2908446</td>\n",
       "      <td>13.112507</td>\n",
       "      <td>110000000</td>\n",
       "      <td>295238201</td>\n",
       "      <td>Insurgent</td>\n",
       "      <td>Shailene Woodley|Theo James|Kate Winslet|Ansel...</td>\n",
       "      <td>http://www.thedivergentseries.movie/#insurgent</td>\n",
       "      <td>Robert Schwentke</td>\n",
       "      <td>One Choice Can Destroy You</td>\n",
       "      <td>...</td>\n",
       "      <td>Beatrice Prior must confront her inner demons ...</td>\n",
       "      <td>119</td>\n",
       "      <td>Adventure|Science Fiction|Thriller</td>\n",
       "      <td>Summit Entertainment|Mandeville Films|Red Wago...</td>\n",
       "      <td>3/18/15</td>\n",
       "      <td>2480</td>\n",
       "      <td>6.3</td>\n",
       "      <td>2015</td>\n",
       "      <td>1.012000e+08</td>\n",
       "      <td>2.716190e+08</td>\n",
       "    </tr>\n",
       "    <tr>\n",
       "      <th>3</th>\n",
       "      <td>140607</td>\n",
       "      <td>tt2488496</td>\n",
       "      <td>11.173104</td>\n",
       "      <td>200000000</td>\n",
       "      <td>2068178225</td>\n",
       "      <td>Star Wars: The Force Awakens</td>\n",
       "      <td>Harrison Ford|Mark Hamill|Carrie Fisher|Adam D...</td>\n",
       "      <td>http://www.starwars.com/films/star-wars-episod...</td>\n",
       "      <td>J.J. Abrams</td>\n",
       "      <td>Every generation has a story.</td>\n",
       "      <td>...</td>\n",
       "      <td>Thirty years after defeating the Galactic Empi...</td>\n",
       "      <td>136</td>\n",
       "      <td>Action|Adventure|Science Fiction|Fantasy</td>\n",
       "      <td>Lucasfilm|Truenorth Productions|Bad Robot</td>\n",
       "      <td>12/15/15</td>\n",
       "      <td>5292</td>\n",
       "      <td>7.5</td>\n",
       "      <td>2015</td>\n",
       "      <td>1.839999e+08</td>\n",
       "      <td>1.902723e+09</td>\n",
       "    </tr>\n",
       "    <tr>\n",
       "      <th>4</th>\n",
       "      <td>168259</td>\n",
       "      <td>tt2820852</td>\n",
       "      <td>9.335014</td>\n",
       "      <td>190000000</td>\n",
       "      <td>1506249360</td>\n",
       "      <td>Furious 7</td>\n",
       "      <td>Vin Diesel|Paul Walker|Jason Statham|Michelle ...</td>\n",
       "      <td>http://www.furious7.com/</td>\n",
       "      <td>James Wan</td>\n",
       "      <td>Vengeance Hits Home</td>\n",
       "      <td>...</td>\n",
       "      <td>Deckard Shaw seeks revenge against Dominic Tor...</td>\n",
       "      <td>137</td>\n",
       "      <td>Action|Crime|Thriller</td>\n",
       "      <td>Universal Pictures|Original Film|Media Rights ...</td>\n",
       "      <td>4/1/15</td>\n",
       "      <td>2947</td>\n",
       "      <td>7.3</td>\n",
       "      <td>2015</td>\n",
       "      <td>1.747999e+08</td>\n",
       "      <td>1.385749e+09</td>\n",
       "    </tr>\n",
       "  </tbody>\n",
       "</table>\n",
       "<p>5 rows × 21 columns</p>\n",
       "</div>"
      ],
      "text/plain": [
       "       id    imdb_id  popularity     budget     revenue  \\\n",
       "0  135397  tt0369610   32.985763  150000000  1513528810   \n",
       "1   76341  tt1392190   28.419936  150000000   378436354   \n",
       "2  262500  tt2908446   13.112507  110000000   295238201   \n",
       "3  140607  tt2488496   11.173104  200000000  2068178225   \n",
       "4  168259  tt2820852    9.335014  190000000  1506249360   \n",
       "\n",
       "                 original_title  \\\n",
       "0                Jurassic World   \n",
       "1            Mad Max: Fury Road   \n",
       "2                     Insurgent   \n",
       "3  Star Wars: The Force Awakens   \n",
       "4                     Furious 7   \n",
       "\n",
       "                                                cast  \\\n",
       "0  Chris Pratt|Bryce Dallas Howard|Irrfan Khan|Vi...   \n",
       "1  Tom Hardy|Charlize Theron|Hugh Keays-Byrne|Nic...   \n",
       "2  Shailene Woodley|Theo James|Kate Winslet|Ansel...   \n",
       "3  Harrison Ford|Mark Hamill|Carrie Fisher|Adam D...   \n",
       "4  Vin Diesel|Paul Walker|Jason Statham|Michelle ...   \n",
       "\n",
       "                                            homepage          director  \\\n",
       "0                      http://www.jurassicworld.com/   Colin Trevorrow   \n",
       "1                        http://www.madmaxmovie.com/     George Miller   \n",
       "2     http://www.thedivergentseries.movie/#insurgent  Robert Schwentke   \n",
       "3  http://www.starwars.com/films/star-wars-episod...       J.J. Abrams   \n",
       "4                           http://www.furious7.com/         James Wan   \n",
       "\n",
       "                         tagline  ...  \\\n",
       "0              The park is open.  ...   \n",
       "1             What a Lovely Day.  ...   \n",
       "2     One Choice Can Destroy You  ...   \n",
       "3  Every generation has a story.  ...   \n",
       "4            Vengeance Hits Home  ...   \n",
       "\n",
       "                                            overview runtime  \\\n",
       "0  Twenty-two years after the events of Jurassic ...     124   \n",
       "1  An apocalyptic story set in the furthest reach...     120   \n",
       "2  Beatrice Prior must confront her inner demons ...     119   \n",
       "3  Thirty years after defeating the Galactic Empi...     136   \n",
       "4  Deckard Shaw seeks revenge against Dominic Tor...     137   \n",
       "\n",
       "                                      genres  \\\n",
       "0  Action|Adventure|Science Fiction|Thriller   \n",
       "1  Action|Adventure|Science Fiction|Thriller   \n",
       "2         Adventure|Science Fiction|Thriller   \n",
       "3   Action|Adventure|Science Fiction|Fantasy   \n",
       "4                      Action|Crime|Thriller   \n",
       "\n",
       "                                production_companies release_date vote_count  \\\n",
       "0  Universal Studios|Amblin Entertainment|Legenda...       6/9/15       5562   \n",
       "1  Village Roadshow Pictures|Kennedy Miller Produ...      5/13/15       6185   \n",
       "2  Summit Entertainment|Mandeville Films|Red Wago...      3/18/15       2480   \n",
       "3          Lucasfilm|Truenorth Productions|Bad Robot     12/15/15       5292   \n",
       "4  Universal Pictures|Original Film|Media Rights ...       4/1/15       2947   \n",
       "\n",
       "   vote_average  release_year    budget_adj   revenue_adj  \n",
       "0           6.5          2015  1.379999e+08  1.392446e+09  \n",
       "1           7.1          2015  1.379999e+08  3.481613e+08  \n",
       "2           6.3          2015  1.012000e+08  2.716190e+08  \n",
       "3           7.5          2015  1.839999e+08  1.902723e+09  \n",
       "4           7.3          2015  1.747999e+08  1.385749e+09  \n",
       "\n",
       "[5 rows x 21 columns]"
      ]
     },
     "execution_count": 3,
     "metadata": {},
     "output_type": "execute_result"
    }
   ],
   "source": [
    "#loading dataset and printing few rows\n",
    "df = pd.read_csv(\"tmdb-movies.csv\")\n",
    "\n",
    "df.head()"
   ]
  },
  {
   "cell_type": "code",
   "execution_count": 4,
   "metadata": {},
   "outputs": [
    {
     "data": {
      "text/plain": [
       "(10866, 21)"
      ]
     },
     "execution_count": 4,
     "metadata": {},
     "output_type": "execute_result"
    }
   ],
   "source": [
    "#shape of the dataset: number of rows and columns\n",
    "df.shape"
   ]
  },
  {
   "cell_type": "code",
   "execution_count": 5,
   "metadata": {},
   "outputs": [
    {
     "name": "stdout",
     "output_type": "stream",
     "text": [
      "<class 'pandas.core.frame.DataFrame'>\n",
      "RangeIndex: 10866 entries, 0 to 10865\n",
      "Data columns (total 21 columns):\n",
      " #   Column                Non-Null Count  Dtype  \n",
      "---  ------                --------------  -----  \n",
      " 0   id                    10866 non-null  int64  \n",
      " 1   imdb_id               10856 non-null  object \n",
      " 2   popularity            10866 non-null  float64\n",
      " 3   budget                10866 non-null  int64  \n",
      " 4   revenue               10866 non-null  int64  \n",
      " 5   original_title        10866 non-null  object \n",
      " 6   cast                  10790 non-null  object \n",
      " 7   homepage              2936 non-null   object \n",
      " 8   director              10822 non-null  object \n",
      " 9   tagline               8042 non-null   object \n",
      " 10  keywords              9373 non-null   object \n",
      " 11  overview              10862 non-null  object \n",
      " 12  runtime               10866 non-null  int64  \n",
      " 13  genres                10843 non-null  object \n",
      " 14  production_companies  9836 non-null   object \n",
      " 15  release_date          10866 non-null  object \n",
      " 16  vote_count            10866 non-null  int64  \n",
      " 17  vote_average          10866 non-null  float64\n",
      " 18  release_year          10866 non-null  int64  \n",
      " 19  budget_adj            10866 non-null  float64\n",
      " 20  revenue_adj           10866 non-null  float64\n",
      "dtypes: float64(4), int64(6), object(11)\n",
      "memory usage: 1.7+ MB\n"
     ]
    }
   ],
   "source": [
    "df.info()"
   ]
  },
  {
   "cell_type": "markdown",
   "metadata": {},
   "source": [
    "## Decision of _Columns_ and _rows_ to drop from the dataset info.\n",
    "\n",
    "> 1. **homepage.** This is because homepage has only 2936 non null values out of the possible 10866 rows of data. Dropping all the other row values would reduce the sample data availiable and possibly loose certain feature description. Hence the decision to drop the entire column from the dataset.\n",
    ">\n",
    ">\n",
    "> 2. **director.** The director column has 10822 non null values. This means that 44 data values are missing from the data set. Hence we will drop all the rows that are empthy (Nan values or isnull()) in the director coulmn\n",
    ">\n",
    ">\n",
    "> 3. **cast.** The cast column has 10790 non null values. This means there aree only 76 miss data values. Hence we will drop all the rows with empthy (Nan values) in the Cast column.\n",
    ">\n",
    ">\n",
    "> 4. **tagline** This column does in no way help us to answer our analysis question. Hence we will drop the entire column from the data set.\n",
    ">\n",
    ">\n",
    "> 5. **overview** This column does in no way help us to answer our analysis question. Hence we will drop the entire column from the data set.\n",
    ">\n",
    ">\n",
    "> 6. **imdb_id** This column does in no way help us to answer our analysis question. Hence we will drop the entire column from the data set.\n",
    ">\n",
    ">\n",
    "> 7. **keywords** This column does in no way help us to answer our analysis question. Hence we will drop the entire column from the data set.\n",
    ">\n",
    ">\n",
    "> 8. **genres** The Genres column has 10843 non null values. This means that 23 data values are missing from the column dataset. Hence we will drop all rows that are empthy(Nan values or isnull()) in the Genres column\n",
    ">\n",
    ">\n",
    "> 9. **production_companies** This column has 9836 non null values. This means that there are 1030 data vlaues missing from the column dataset. Moreover this column does in now way help us to answer our analysis questions. Hence we will drop the entire column from the data set."
   ]
  },
  {
   "cell_type": "markdown",
   "metadata": {},
   "source": [
    "> **Tip**: You should _not_ perform too many operations in each cell. Create cells freely to explore your data. One option that you can take with this project is to do a lot of explorations in an initial notebook. These don't have to be organized, but make sure you use enough comments to understand the purpose of each code cell. Then, after you're done with your analysis, create a duplicate notebook where you will trim the excess and organize your steps so that you have a flowing, cohesive report.\n",
    "\n",
    "> **Tip**: Make sure that you keep your reader informed on the steps that you are taking in your investigation. Follow every code cell, or every set of related code cells, with a markdown cell to describe to the reader what was found in the preceding cell(s). Try to make it so that the reader can then understand what they will be seeing in the following cell(s).\n",
    "\n",
    "### Data Cleaning (Replace this with more specific notes!)"
   ]
  },
  {
   "cell_type": "code",
   "execution_count": null,
   "metadata": {},
   "outputs": [],
   "source": [
    "# After discussing the structure of the data and any problems that need to be\n",
    "#   cleaned, perform those cleaning steps in the second part of this section.\n"
   ]
  },
  {
   "cell_type": "code",
   "execution_count": 6,
   "metadata": {
    "scrolled": true
   },
   "outputs": [
    {
     "data": {
      "text/html": [
       "<div>\n",
       "<style scoped>\n",
       "    .dataframe tbody tr th:only-of-type {\n",
       "        vertical-align: middle;\n",
       "    }\n",
       "\n",
       "    .dataframe tbody tr th {\n",
       "        vertical-align: top;\n",
       "    }\n",
       "\n",
       "    .dataframe thead th {\n",
       "        text-align: right;\n",
       "    }\n",
       "</style>\n",
       "<table border=\"1\" class=\"dataframe\">\n",
       "  <thead>\n",
       "    <tr style=\"text-align: right;\">\n",
       "      <th></th>\n",
       "      <th>id</th>\n",
       "      <th>popularity</th>\n",
       "      <th>budget</th>\n",
       "      <th>revenue</th>\n",
       "      <th>original_title</th>\n",
       "      <th>cast</th>\n",
       "      <th>director</th>\n",
       "      <th>runtime</th>\n",
       "      <th>genres</th>\n",
       "      <th>release_date</th>\n",
       "      <th>vote_count</th>\n",
       "      <th>vote_average</th>\n",
       "      <th>release_year</th>\n",
       "      <th>budget_adj</th>\n",
       "      <th>revenue_adj</th>\n",
       "    </tr>\n",
       "  </thead>\n",
       "  <tbody>\n",
       "    <tr>\n",
       "      <th>0</th>\n",
       "      <td>135397</td>\n",
       "      <td>32.985763</td>\n",
       "      <td>150000000</td>\n",
       "      <td>1513528810</td>\n",
       "      <td>Jurassic World</td>\n",
       "      <td>Chris Pratt|Bryce Dallas Howard|Irrfan Khan|Vi...</td>\n",
       "      <td>Colin Trevorrow</td>\n",
       "      <td>124</td>\n",
       "      <td>Action|Adventure|Science Fiction|Thriller</td>\n",
       "      <td>6/9/15</td>\n",
       "      <td>5562</td>\n",
       "      <td>6.5</td>\n",
       "      <td>2015</td>\n",
       "      <td>1.379999e+08</td>\n",
       "      <td>1.392446e+09</td>\n",
       "    </tr>\n",
       "    <tr>\n",
       "      <th>1</th>\n",
       "      <td>76341</td>\n",
       "      <td>28.419936</td>\n",
       "      <td>150000000</td>\n",
       "      <td>378436354</td>\n",
       "      <td>Mad Max: Fury Road</td>\n",
       "      <td>Tom Hardy|Charlize Theron|Hugh Keays-Byrne|Nic...</td>\n",
       "      <td>George Miller</td>\n",
       "      <td>120</td>\n",
       "      <td>Action|Adventure|Science Fiction|Thriller</td>\n",
       "      <td>5/13/15</td>\n",
       "      <td>6185</td>\n",
       "      <td>7.1</td>\n",
       "      <td>2015</td>\n",
       "      <td>1.379999e+08</td>\n",
       "      <td>3.481613e+08</td>\n",
       "    </tr>\n",
       "    <tr>\n",
       "      <th>2</th>\n",
       "      <td>262500</td>\n",
       "      <td>13.112507</td>\n",
       "      <td>110000000</td>\n",
       "      <td>295238201</td>\n",
       "      <td>Insurgent</td>\n",
       "      <td>Shailene Woodley|Theo James|Kate Winslet|Ansel...</td>\n",
       "      <td>Robert Schwentke</td>\n",
       "      <td>119</td>\n",
       "      <td>Adventure|Science Fiction|Thriller</td>\n",
       "      <td>3/18/15</td>\n",
       "      <td>2480</td>\n",
       "      <td>6.3</td>\n",
       "      <td>2015</td>\n",
       "      <td>1.012000e+08</td>\n",
       "      <td>2.716190e+08</td>\n",
       "    </tr>\n",
       "    <tr>\n",
       "      <th>3</th>\n",
       "      <td>140607</td>\n",
       "      <td>11.173104</td>\n",
       "      <td>200000000</td>\n",
       "      <td>2068178225</td>\n",
       "      <td>Star Wars: The Force Awakens</td>\n",
       "      <td>Harrison Ford|Mark Hamill|Carrie Fisher|Adam D...</td>\n",
       "      <td>J.J. Abrams</td>\n",
       "      <td>136</td>\n",
       "      <td>Action|Adventure|Science Fiction|Fantasy</td>\n",
       "      <td>12/15/15</td>\n",
       "      <td>5292</td>\n",
       "      <td>7.5</td>\n",
       "      <td>2015</td>\n",
       "      <td>1.839999e+08</td>\n",
       "      <td>1.902723e+09</td>\n",
       "    </tr>\n",
       "    <tr>\n",
       "      <th>4</th>\n",
       "      <td>168259</td>\n",
       "      <td>9.335014</td>\n",
       "      <td>190000000</td>\n",
       "      <td>1506249360</td>\n",
       "      <td>Furious 7</td>\n",
       "      <td>Vin Diesel|Paul Walker|Jason Statham|Michelle ...</td>\n",
       "      <td>James Wan</td>\n",
       "      <td>137</td>\n",
       "      <td>Action|Crime|Thriller</td>\n",
       "      <td>4/1/15</td>\n",
       "      <td>2947</td>\n",
       "      <td>7.3</td>\n",
       "      <td>2015</td>\n",
       "      <td>1.747999e+08</td>\n",
       "      <td>1.385749e+09</td>\n",
       "    </tr>\n",
       "  </tbody>\n",
       "</table>\n",
       "</div>"
      ],
      "text/plain": [
       "       id  popularity     budget     revenue                original_title  \\\n",
       "0  135397   32.985763  150000000  1513528810                Jurassic World   \n",
       "1   76341   28.419936  150000000   378436354            Mad Max: Fury Road   \n",
       "2  262500   13.112507  110000000   295238201                     Insurgent   \n",
       "3  140607   11.173104  200000000  2068178225  Star Wars: The Force Awakens   \n",
       "4  168259    9.335014  190000000  1506249360                     Furious 7   \n",
       "\n",
       "                                                cast          director  \\\n",
       "0  Chris Pratt|Bryce Dallas Howard|Irrfan Khan|Vi...   Colin Trevorrow   \n",
       "1  Tom Hardy|Charlize Theron|Hugh Keays-Byrne|Nic...     George Miller   \n",
       "2  Shailene Woodley|Theo James|Kate Winslet|Ansel...  Robert Schwentke   \n",
       "3  Harrison Ford|Mark Hamill|Carrie Fisher|Adam D...       J.J. Abrams   \n",
       "4  Vin Diesel|Paul Walker|Jason Statham|Michelle ...         James Wan   \n",
       "\n",
       "   runtime                                     genres release_date  \\\n",
       "0      124  Action|Adventure|Science Fiction|Thriller       6/9/15   \n",
       "1      120  Action|Adventure|Science Fiction|Thriller      5/13/15   \n",
       "2      119         Adventure|Science Fiction|Thriller      3/18/15   \n",
       "3      136   Action|Adventure|Science Fiction|Fantasy     12/15/15   \n",
       "4      137                      Action|Crime|Thriller       4/1/15   \n",
       "\n",
       "   vote_count  vote_average  release_year    budget_adj   revenue_adj  \n",
       "0        5562           6.5          2015  1.379999e+08  1.392446e+09  \n",
       "1        6185           7.1          2015  1.379999e+08  3.481613e+08  \n",
       "2        2480           6.3          2015  1.012000e+08  2.716190e+08  \n",
       "3        5292           7.5          2015  1.839999e+08  1.902723e+09  \n",
       "4        2947           7.3          2015  1.747999e+08  1.385749e+09  "
      ]
     },
     "execution_count": 6,
     "metadata": {},
     "output_type": "execute_result"
    }
   ],
   "source": [
    "#Droping the columns homepage, tagline, keywords, overview, production_companies  \n",
    "\n",
    "df.drop(['homepage', 'tagline', 'keywords', 'overview', 'imdb_id', 'production_companies'], axis=1, inplace=True)\n",
    "df.head()"
   ]
  },
  {
   "cell_type": "code",
   "execution_count": 7,
   "metadata": {},
   "outputs": [
    {
     "data": {
      "text/plain": [
       "(10866, 15)"
      ]
     },
     "execution_count": 7,
     "metadata": {},
     "output_type": "execute_result"
    }
   ],
   "source": [
    "df.shape"
   ]
  },
  {
   "cell_type": "markdown",
   "metadata": {},
   "source": [
    "**Update on dataset**\n",
    "> Our dataframe now has 15 columns and 10866 rows."
   ]
  },
  {
   "cell_type": "code",
   "execution_count": 8,
   "metadata": {
    "scrolled": true
   },
   "outputs": [
    {
     "data": {
      "text/html": [
       "<div>\n",
       "<style scoped>\n",
       "    .dataframe tbody tr th:only-of-type {\n",
       "        vertical-align: middle;\n",
       "    }\n",
       "\n",
       "    .dataframe tbody tr th {\n",
       "        vertical-align: top;\n",
       "    }\n",
       "\n",
       "    .dataframe thead th {\n",
       "        text-align: right;\n",
       "    }\n",
       "</style>\n",
       "<table border=\"1\" class=\"dataframe\">\n",
       "  <thead>\n",
       "    <tr style=\"text-align: right;\">\n",
       "      <th></th>\n",
       "      <th>id</th>\n",
       "      <th>popularity</th>\n",
       "      <th>budget</th>\n",
       "      <th>revenue</th>\n",
       "      <th>original_title</th>\n",
       "      <th>cast</th>\n",
       "      <th>director</th>\n",
       "      <th>runtime</th>\n",
       "      <th>genres</th>\n",
       "      <th>release_date</th>\n",
       "      <th>vote_count</th>\n",
       "      <th>vote_average</th>\n",
       "      <th>release_year</th>\n",
       "      <th>budget_adj</th>\n",
       "      <th>revenue_adj</th>\n",
       "    </tr>\n",
       "  </thead>\n",
       "  <tbody>\n",
       "    <tr>\n",
       "      <th>0</th>\n",
       "      <td>135397</td>\n",
       "      <td>32.985763</td>\n",
       "      <td>150000000</td>\n",
       "      <td>1513528810</td>\n",
       "      <td>Jurassic World</td>\n",
       "      <td>Chris Pratt|Bryce Dallas Howard|Irrfan Khan|Vi...</td>\n",
       "      <td>Colin Trevorrow</td>\n",
       "      <td>124</td>\n",
       "      <td>Action|Adventure|Science Fiction|Thriller</td>\n",
       "      <td>6/9/15</td>\n",
       "      <td>5562</td>\n",
       "      <td>6.5</td>\n",
       "      <td>2015</td>\n",
       "      <td>1.379999e+08</td>\n",
       "      <td>1.392446e+09</td>\n",
       "    </tr>\n",
       "    <tr>\n",
       "      <th>1</th>\n",
       "      <td>76341</td>\n",
       "      <td>28.419936</td>\n",
       "      <td>150000000</td>\n",
       "      <td>378436354</td>\n",
       "      <td>Mad Max: Fury Road</td>\n",
       "      <td>Tom Hardy|Charlize Theron|Hugh Keays-Byrne|Nic...</td>\n",
       "      <td>George Miller</td>\n",
       "      <td>120</td>\n",
       "      <td>Action|Adventure|Science Fiction|Thriller</td>\n",
       "      <td>5/13/15</td>\n",
       "      <td>6185</td>\n",
       "      <td>7.1</td>\n",
       "      <td>2015</td>\n",
       "      <td>1.379999e+08</td>\n",
       "      <td>3.481613e+08</td>\n",
       "    </tr>\n",
       "    <tr>\n",
       "      <th>2</th>\n",
       "      <td>262500</td>\n",
       "      <td>13.112507</td>\n",
       "      <td>110000000</td>\n",
       "      <td>295238201</td>\n",
       "      <td>Insurgent</td>\n",
       "      <td>Shailene Woodley|Theo James|Kate Winslet|Ansel...</td>\n",
       "      <td>Robert Schwentke</td>\n",
       "      <td>119</td>\n",
       "      <td>Adventure|Science Fiction|Thriller</td>\n",
       "      <td>3/18/15</td>\n",
       "      <td>2480</td>\n",
       "      <td>6.3</td>\n",
       "      <td>2015</td>\n",
       "      <td>1.012000e+08</td>\n",
       "      <td>2.716190e+08</td>\n",
       "    </tr>\n",
       "    <tr>\n",
       "      <th>3</th>\n",
       "      <td>140607</td>\n",
       "      <td>11.173104</td>\n",
       "      <td>200000000</td>\n",
       "      <td>2068178225</td>\n",
       "      <td>Star Wars: The Force Awakens</td>\n",
       "      <td>Harrison Ford|Mark Hamill|Carrie Fisher|Adam D...</td>\n",
       "      <td>J.J. Abrams</td>\n",
       "      <td>136</td>\n",
       "      <td>Action|Adventure|Science Fiction|Fantasy</td>\n",
       "      <td>12/15/15</td>\n",
       "      <td>5292</td>\n",
       "      <td>7.5</td>\n",
       "      <td>2015</td>\n",
       "      <td>1.839999e+08</td>\n",
       "      <td>1.902723e+09</td>\n",
       "    </tr>\n",
       "    <tr>\n",
       "      <th>4</th>\n",
       "      <td>168259</td>\n",
       "      <td>9.335014</td>\n",
       "      <td>190000000</td>\n",
       "      <td>1506249360</td>\n",
       "      <td>Furious 7</td>\n",
       "      <td>Vin Diesel|Paul Walker|Jason Statham|Michelle ...</td>\n",
       "      <td>James Wan</td>\n",
       "      <td>137</td>\n",
       "      <td>Action|Crime|Thriller</td>\n",
       "      <td>4/1/15</td>\n",
       "      <td>2947</td>\n",
       "      <td>7.3</td>\n",
       "      <td>2015</td>\n",
       "      <td>1.747999e+08</td>\n",
       "      <td>1.385749e+09</td>\n",
       "    </tr>\n",
       "  </tbody>\n",
       "</table>\n",
       "</div>"
      ],
      "text/plain": [
       "       id  popularity     budget     revenue                original_title  \\\n",
       "0  135397   32.985763  150000000  1513528810                Jurassic World   \n",
       "1   76341   28.419936  150000000   378436354            Mad Max: Fury Road   \n",
       "2  262500   13.112507  110000000   295238201                     Insurgent   \n",
       "3  140607   11.173104  200000000  2068178225  Star Wars: The Force Awakens   \n",
       "4  168259    9.335014  190000000  1506249360                     Furious 7   \n",
       "\n",
       "                                                cast          director  \\\n",
       "0  Chris Pratt|Bryce Dallas Howard|Irrfan Khan|Vi...   Colin Trevorrow   \n",
       "1  Tom Hardy|Charlize Theron|Hugh Keays-Byrne|Nic...     George Miller   \n",
       "2  Shailene Woodley|Theo James|Kate Winslet|Ansel...  Robert Schwentke   \n",
       "3  Harrison Ford|Mark Hamill|Carrie Fisher|Adam D...       J.J. Abrams   \n",
       "4  Vin Diesel|Paul Walker|Jason Statham|Michelle ...         James Wan   \n",
       "\n",
       "   runtime                                     genres release_date  \\\n",
       "0      124  Action|Adventure|Science Fiction|Thriller       6/9/15   \n",
       "1      120  Action|Adventure|Science Fiction|Thriller      5/13/15   \n",
       "2      119         Adventure|Science Fiction|Thriller      3/18/15   \n",
       "3      136   Action|Adventure|Science Fiction|Fantasy     12/15/15   \n",
       "4      137                      Action|Crime|Thriller       4/1/15   \n",
       "\n",
       "   vote_count  vote_average  release_year    budget_adj   revenue_adj  \n",
       "0        5562           6.5          2015  1.379999e+08  1.392446e+09  \n",
       "1        6185           7.1          2015  1.379999e+08  3.481613e+08  \n",
       "2        2480           6.3          2015  1.012000e+08  2.716190e+08  \n",
       "3        5292           7.5          2015  1.839999e+08  1.902723e+09  \n",
       "4        2947           7.3          2015  1.747999e+08  1.385749e+09  "
      ]
     },
     "execution_count": 8,
     "metadata": {},
     "output_type": "execute_result"
    }
   ],
   "source": [
    "# droping rows with Nan values in the cast, director, genres\n",
    "df.dropna(subset = ['director', 'cast', 'genres'], axis=0, inplace=True)\n",
    "df.head()"
   ]
  },
  {
   "cell_type": "code",
   "execution_count": 41,
   "metadata": {},
   "outputs": [
    {
     "data": {
      "text/plain": [
       "1"
      ]
     },
     "execution_count": 41,
     "metadata": {},
     "output_type": "execute_result"
    }
   ],
   "source": [
    "sum(df.duplicated())"
   ]
  },
  {
   "cell_type": "markdown",
   "metadata": {},
   "source": [
    ">**Dataframe has 1(one) duplicate row and must be removed**"
   ]
  },
  {
   "cell_type": "code",
   "execution_count": 45,
   "metadata": {},
   "outputs": [],
   "source": [
    "df.drop_duplicates(inplace=True)"
   ]
  },
  {
   "cell_type": "code",
   "execution_count": 78,
   "metadata": {
    "scrolled": true
   },
   "outputs": [
    {
     "name": "stdout",
     "output_type": "stream",
     "text": [
      "<class 'pandas.core.frame.DataFrame'>\n",
      "Int64Index: 10731 entries, 0 to 10865\n",
      "Data columns (total 15 columns):\n",
      " #   Column          Non-Null Count  Dtype  \n",
      "---  ------          --------------  -----  \n",
      " 0   id              10731 non-null  int64  \n",
      " 1   popularity      10731 non-null  float64\n",
      " 2   budget          10731 non-null  int64  \n",
      " 3   revenue         10731 non-null  int64  \n",
      " 4   original_title  10731 non-null  object \n",
      " 5   cast            10731 non-null  object \n",
      " 6   director        10731 non-null  object \n",
      " 7   runtime         10731 non-null  int64  \n",
      " 8   genres          10731 non-null  object \n",
      " 9   release_date    10731 non-null  object \n",
      " 10  vote_count      10731 non-null  int64  \n",
      " 11  vote_average    10731 non-null  float64\n",
      " 12  release_year    10731 non-null  int64  \n",
      " 13  budget_adj      10731 non-null  float64\n",
      " 14  revenue_adj     10731 non-null  float64\n",
      "dtypes: float64(4), int64(6), object(5)\n",
      "memory usage: 1.3+ MB\n"
     ]
    }
   ],
   "source": [
    "df.info()"
   ]
  },
  {
   "cell_type": "markdown",
   "metadata": {},
   "source": [
    "### Data Cleaning Update.\n",
    "> The dataset now has 10731 non-null values for each of the 15 columns present.\n",
    ">\n",
    ">\n",
    ">Now we can verify if all the datasets are of the type we need for our analysis\n",
    ">\n",
    ">\n",
    "> Then we look at the early statistical information about our dataset to make prepare it for analysis."
   ]
  },
  {
   "cell_type": "code",
   "execution_count": 47,
   "metadata": {},
   "outputs": [
    {
     "data": {
      "text/plain": [
       "id                  int64\n",
       "popularity        float64\n",
       "budget              int64\n",
       "revenue             int64\n",
       "original_title     object\n",
       "cast               object\n",
       "director           object\n",
       "runtime             int64\n",
       "genres             object\n",
       "release_date       object\n",
       "vote_count          int64\n",
       "vote_average      float64\n",
       "release_year        int64\n",
       "budget_adj        float64\n",
       "revenue_adj       float64\n",
       "dtype: object"
      ]
     },
     "execution_count": 47,
     "metadata": {},
     "output_type": "execute_result"
    }
   ],
   "source": [
    "#checking the datatypes of the columns\n",
    "df.dtypes"
   ]
  },
  {
   "cell_type": "markdown",
   "metadata": {},
   "source": [
    "The data types are all right and are perfect for the analysis and insight we seek after"
   ]
  },
  {
   "cell_type": "code",
   "execution_count": 48,
   "metadata": {},
   "outputs": [],
   "source": [
    "# Checking early desciption of our dataset and some pre-stats information"
   ]
  },
  {
   "cell_type": "code",
   "execution_count": 49,
   "metadata": {},
   "outputs": [
    {
     "data": {
      "text/html": [
       "<div>\n",
       "<style scoped>\n",
       "    .dataframe tbody tr th:only-of-type {\n",
       "        vertical-align: middle;\n",
       "    }\n",
       "\n",
       "    .dataframe tbody tr th {\n",
       "        vertical-align: top;\n",
       "    }\n",
       "\n",
       "    .dataframe thead th {\n",
       "        text-align: right;\n",
       "    }\n",
       "</style>\n",
       "<table border=\"1\" class=\"dataframe\">\n",
       "  <thead>\n",
       "    <tr style=\"text-align: right;\">\n",
       "      <th></th>\n",
       "      <th>id</th>\n",
       "      <th>popularity</th>\n",
       "      <th>budget</th>\n",
       "      <th>revenue</th>\n",
       "      <th>runtime</th>\n",
       "      <th>vote_count</th>\n",
       "      <th>vote_average</th>\n",
       "      <th>release_year</th>\n",
       "      <th>budget_adj</th>\n",
       "      <th>revenue_adj</th>\n",
       "    </tr>\n",
       "  </thead>\n",
       "  <tbody>\n",
       "    <tr>\n",
       "      <th>count</th>\n",
       "      <td>10731.000000</td>\n",
       "      <td>10731.000000</td>\n",
       "      <td>1.073100e+04</td>\n",
       "      <td>1.073100e+04</td>\n",
       "      <td>10731.000000</td>\n",
       "      <td>10731.000000</td>\n",
       "      <td>10731.000000</td>\n",
       "      <td>10731.000000</td>\n",
       "      <td>1.073100e+04</td>\n",
       "      <td>1.073100e+04</td>\n",
       "    </tr>\n",
       "    <tr>\n",
       "      <th>mean</th>\n",
       "      <td>65201.741869</td>\n",
       "      <td>0.652615</td>\n",
       "      <td>1.480365e+07</td>\n",
       "      <td>4.031989e+07</td>\n",
       "      <td>102.468829</td>\n",
       "      <td>219.812972</td>\n",
       "      <td>5.964710</td>\n",
       "      <td>2001.259622</td>\n",
       "      <td>1.776530e+07</td>\n",
       "      <td>5.200623e+07</td>\n",
       "    </tr>\n",
       "    <tr>\n",
       "      <th>std</th>\n",
       "      <td>91470.508056</td>\n",
       "      <td>1.004804</td>\n",
       "      <td>3.106456e+07</td>\n",
       "      <td>1.176524e+08</td>\n",
       "      <td>30.493873</td>\n",
       "      <td>578.815324</td>\n",
       "      <td>0.930283</td>\n",
       "      <td>12.820151</td>\n",
       "      <td>3.446630e+07</td>\n",
       "      <td>1.454252e+08</td>\n",
       "    </tr>\n",
       "    <tr>\n",
       "      <th>min</th>\n",
       "      <td>5.000000</td>\n",
       "      <td>0.000188</td>\n",
       "      <td>0.000000e+00</td>\n",
       "      <td>0.000000e+00</td>\n",
       "      <td>0.000000</td>\n",
       "      <td>10.000000</td>\n",
       "      <td>1.500000</td>\n",
       "      <td>1960.000000</td>\n",
       "      <td>0.000000e+00</td>\n",
       "      <td>0.000000e+00</td>\n",
       "    </tr>\n",
       "    <tr>\n",
       "      <th>25%</th>\n",
       "      <td>10547.500000</td>\n",
       "      <td>0.210765</td>\n",
       "      <td>0.000000e+00</td>\n",
       "      <td>0.000000e+00</td>\n",
       "      <td>90.000000</td>\n",
       "      <td>17.000000</td>\n",
       "      <td>5.400000</td>\n",
       "      <td>1995.000000</td>\n",
       "      <td>0.000000e+00</td>\n",
       "      <td>0.000000e+00</td>\n",
       "    </tr>\n",
       "    <tr>\n",
       "      <th>50%</th>\n",
       "      <td>20323.000000</td>\n",
       "      <td>0.387081</td>\n",
       "      <td>0.000000e+00</td>\n",
       "      <td>0.000000e+00</td>\n",
       "      <td>99.000000</td>\n",
       "      <td>39.000000</td>\n",
       "      <td>6.000000</td>\n",
       "      <td>2006.000000</td>\n",
       "      <td>0.000000e+00</td>\n",
       "      <td>0.000000e+00</td>\n",
       "    </tr>\n",
       "    <tr>\n",
       "      <th>75%</th>\n",
       "      <td>73948.500000</td>\n",
       "      <td>0.720889</td>\n",
       "      <td>1.600000e+07</td>\n",
       "      <td>2.500000e+07</td>\n",
       "      <td>112.000000</td>\n",
       "      <td>148.000000</td>\n",
       "      <td>6.600000</td>\n",
       "      <td>2011.000000</td>\n",
       "      <td>2.110885e+07</td>\n",
       "      <td>3.470546e+07</td>\n",
       "    </tr>\n",
       "    <tr>\n",
       "      <th>max</th>\n",
       "      <td>417859.000000</td>\n",
       "      <td>32.985763</td>\n",
       "      <td>4.250000e+08</td>\n",
       "      <td>2.781506e+09</td>\n",
       "      <td>900.000000</td>\n",
       "      <td>9767.000000</td>\n",
       "      <td>9.200000</td>\n",
       "      <td>2015.000000</td>\n",
       "      <td>4.250000e+08</td>\n",
       "      <td>2.827124e+09</td>\n",
       "    </tr>\n",
       "  </tbody>\n",
       "</table>\n",
       "</div>"
      ],
      "text/plain": [
       "                  id    popularity        budget       revenue       runtime  \\\n",
       "count   10731.000000  10731.000000  1.073100e+04  1.073100e+04  10731.000000   \n",
       "mean    65201.741869      0.652615  1.480365e+07  4.031989e+07    102.468829   \n",
       "std     91470.508056      1.004804  3.106456e+07  1.176524e+08     30.493873   \n",
       "min         5.000000      0.000188  0.000000e+00  0.000000e+00      0.000000   \n",
       "25%     10547.500000      0.210765  0.000000e+00  0.000000e+00     90.000000   \n",
       "50%     20323.000000      0.387081  0.000000e+00  0.000000e+00     99.000000   \n",
       "75%     73948.500000      0.720889  1.600000e+07  2.500000e+07    112.000000   \n",
       "max    417859.000000     32.985763  4.250000e+08  2.781506e+09    900.000000   \n",
       "\n",
       "         vote_count  vote_average  release_year    budget_adj   revenue_adj  \n",
       "count  10731.000000  10731.000000  10731.000000  1.073100e+04  1.073100e+04  \n",
       "mean     219.812972      5.964710   2001.259622  1.776530e+07  5.200623e+07  \n",
       "std      578.815324      0.930283     12.820151  3.446630e+07  1.454252e+08  \n",
       "min       10.000000      1.500000   1960.000000  0.000000e+00  0.000000e+00  \n",
       "25%       17.000000      5.400000   1995.000000  0.000000e+00  0.000000e+00  \n",
       "50%       39.000000      6.000000   2006.000000  0.000000e+00  0.000000e+00  \n",
       "75%      148.000000      6.600000   2011.000000  2.110885e+07  3.470546e+07  \n",
       "max     9767.000000      9.200000   2015.000000  4.250000e+08  2.827124e+09  "
      ]
     },
     "execution_count": 49,
     "metadata": {},
     "output_type": "execute_result"
    }
   ],
   "source": [
    "df.describe()"
   ]
  },
  {
   "cell_type": "markdown",
   "metadata": {},
   "source": [
    "## Decision of _Columns_ and _rows_ to drop from the dataset  desciption.\n",
    "\n",
    "> 1. The budget, revenue, budget_adj and revenue_adj columns have minimmium values of 0(zero). This is not preferred data value for our analysis. We seek to find insight of other variables(features) in relation to these target variables. \n",
    ">\n",
    ">> Hence we would clean up rows with data values of 0 in the budget, revenue, budget_adj, revenue_adj columns.\n",
    ">\n",
    ">\n",
    "> 2. **Also the Runtime of a movie can't be zero.** The run time of a movie is the duration of a motion picture, a theatrical performance, or a recording. Hence logically no movie can have a runtime of zero. We would furthur investigate this 0 values with a target variables and take decisions."
   ]
  },
  {
   "cell_type": "code",
   "execution_count": 120,
   "metadata": {},
   "outputs": [],
   "source": [
    "# dataframe where the revenue value is zero and where the budget value is zero respectively\n",
    "zero_revenue = df.query('revenue in [0]')\n",
    "zero_budget =df.query('budget in [0]')"
   ]
  },
  {
   "cell_type": "code",
   "execution_count": 121,
   "metadata": {
    "scrolled": true
   },
   "outputs": [
    {
     "data": {
      "text/plain": [
       "((5888, 15), (5578, 15))"
      ]
     },
     "execution_count": 121,
     "metadata": {},
     "output_type": "execute_result"
    }
   ],
   "source": [
    "zero_revenue.shape , zero_budget.shape"
   ]
  },
  {
   "cell_type": "code",
   "execution_count": 123,
   "metadata": {},
   "outputs": [
    {
     "data": {
      "text/plain": [
       "count    5.888000e+03\n",
       "mean     2.630276e+06\n",
       "std      8.905355e+06\n",
       "min      0.000000e+00\n",
       "25%      0.000000e+00\n",
       "50%      0.000000e+00\n",
       "75%      0.000000e+00\n",
       "max      1.500000e+08\n",
       "Name: budget, dtype: float64"
      ]
     },
     "execution_count": 123,
     "metadata": {},
     "output_type": "execute_result"
    }
   ],
   "source": [
    "zero_revenue['budget'].describe()"
   ]
  },
  {
   "cell_type": "code",
   "execution_count": 124,
   "metadata": {},
   "outputs": [
    {
     "data": {
      "text/plain": [
       "count    5.578000e+03\n",
       "mean     3.172016e+06\n",
       "std      1.429964e+07\n",
       "min      0.000000e+00\n",
       "25%      0.000000e+00\n",
       "50%      0.000000e+00\n",
       "75%      0.000000e+00\n",
       "max      2.536254e+08\n",
       "Name: revenue, dtype: float64"
      ]
     },
     "execution_count": 124,
     "metadata": {},
     "output_type": "execute_result"
    }
   ],
   "source": [
    "zero_budget['revenue'].describe()"
   ]
  },
  {
   "cell_type": "code",
   "execution_count": 103,
   "metadata": {
    "scrolled": true
   },
   "outputs": [
    {
     "data": {
      "image/png": "[encoded data removed]",
      "text/plain": [
       "<Figure size 576x432 with 1 Axes>"
      ]
     },
     "metadata": {
      "needs_background": "light"
     },
     "output_type": "display_data"
    }
   ],
   "source": [
    "plt.hist(zero_revenue['budget']);\n",
    "plt.xlabel('Budget', fontsize=14);\n",
    "plt.ylabel('Distribution', fontsize=14);\n",
    "plt.rcParams['figure.figsize'] = [8.5, 6]\n",
    "plt.title('Budget When Revenue is Zero(0)', fontsize=16);"
   ]
  },
  {
   "cell_type": "markdown",
   "metadata": {},
   "source": [
    ">From the Diagram above we can see that when the value of revenue is zero(0) the coresponding budget value is also zero(0).\n",
    ">\n",
    ">\n",
    ">> The value count of rows with 0 value as revenue is 5888. Hence if we fill with mean values of revenue about half of the dataset will be mean values of revenue and affect the analysis if this target variable.\n",
    ">>\n",
    ">>\n",
    ">> Hence we will drop all rows with a value of zero(0) for the revenue column."
   ]
  },
  {
   "cell_type": "code",
   "execution_count": 125,
   "metadata": {},
   "outputs": [
    {
     "data": {
      "image/png": "[encoded data removed]",
      "text/plain": [
       "<Figure size 612x432 with 1 Axes>"
      ]
     },
     "metadata": {
      "needs_background": "light"
     },
     "output_type": "display_data"
    }
   ],
   "source": [
    "plt.hist(zero_budget['revenue']);\n",
    "plt.xlabel('revenue', fontsize=14);\n",
    "plt.ylabel('Distribution', fontsize=14);\n",
    "plt.rcParams['figure.figsize'] = [8.5, 6]\n",
    "plt.title('Revenue When budget is Zero(0)', fontsize=16);"
   ]
  },
  {
   "cell_type": "markdown",
   "metadata": {},
   "source": [
    ">From the Diagram above we can see that when the value of budget is zero(0) the coresponding revenue value is also zero(0).\n",
    ">\n",
    ">\n",
    ">> The value count of rows with 0 value as budget is 5578. Hence if we fill with mean values of budget about half of the dataset will be mean values of budget and affect the analysis if this target variable.\n",
    ">>\n",
    ">>\n",
    ">> Hence we will drop all rows with a value of zero(0) for the budget column."
   ]
  },
  {
   "cell_type": "code",
   "execution_count": 127,
   "metadata": {},
   "outputs": [
    {
     "data": {
      "text/html": [
       "<div>\n",
       "<style scoped>\n",
       "    .dataframe tbody tr th:only-of-type {\n",
       "        vertical-align: middle;\n",
       "    }\n",
       "\n",
       "    .dataframe tbody tr th {\n",
       "        vertical-align: top;\n",
       "    }\n",
       "\n",
       "    .dataframe thead th {\n",
       "        text-align: right;\n",
       "    }\n",
       "</style>\n",
       "<table border=\"1\" class=\"dataframe\">\n",
       "  <thead>\n",
       "    <tr style=\"text-align: right;\">\n",
       "      <th></th>\n",
       "      <th>id</th>\n",
       "      <th>popularity</th>\n",
       "      <th>budget</th>\n",
       "      <th>revenue</th>\n",
       "      <th>original_title</th>\n",
       "      <th>cast</th>\n",
       "      <th>director</th>\n",
       "      <th>runtime</th>\n",
       "      <th>genres</th>\n",
       "      <th>release_date</th>\n",
       "      <th>vote_count</th>\n",
       "      <th>vote_average</th>\n",
       "      <th>release_year</th>\n",
       "      <th>budget_adj</th>\n",
       "      <th>revenue_adj</th>\n",
       "    </tr>\n",
       "  </thead>\n",
       "  <tbody>\n",
       "    <tr>\n",
       "      <th>0</th>\n",
       "      <td>135397</td>\n",
       "      <td>32.985763</td>\n",
       "      <td>150000000</td>\n",
       "      <td>1513528810</td>\n",
       "      <td>Jurassic World</td>\n",
       "      <td>Chris Pratt|Bryce Dallas Howard|Irrfan Khan|Vi...</td>\n",
       "      <td>Colin Trevorrow</td>\n",
       "      <td>124</td>\n",
       "      <td>Action|Adventure|Science Fiction|Thriller</td>\n",
       "      <td>6/9/15</td>\n",
       "      <td>5562</td>\n",
       "      <td>6.5</td>\n",
       "      <td>2015</td>\n",
       "      <td>1.379999e+08</td>\n",
       "      <td>1.392446e+09</td>\n",
       "    </tr>\n",
       "    <tr>\n",
       "      <th>1</th>\n",
       "      <td>76341</td>\n",
       "      <td>28.419936</td>\n",
       "      <td>150000000</td>\n",
       "      <td>378436354</td>\n",
       "      <td>Mad Max: Fury Road</td>\n",
       "      <td>Tom Hardy|Charlize Theron|Hugh Keays-Byrne|Nic...</td>\n",
       "      <td>George Miller</td>\n",
       "      <td>120</td>\n",
       "      <td>Action|Adventure|Science Fiction|Thriller</td>\n",
       "      <td>5/13/15</td>\n",
       "      <td>6185</td>\n",
       "      <td>7.1</td>\n",
       "      <td>2015</td>\n",
       "      <td>1.379999e+08</td>\n",
       "      <td>3.481613e+08</td>\n",
       "    </tr>\n",
       "    <tr>\n",
       "      <th>2</th>\n",
       "      <td>262500</td>\n",
       "      <td>13.112507</td>\n",
       "      <td>110000000</td>\n",
       "      <td>295238201</td>\n",
       "      <td>Insurgent</td>\n",
       "      <td>Shailene Woodley|Theo James|Kate Winslet|Ansel...</td>\n",
       "      <td>Robert Schwentke</td>\n",
       "      <td>119</td>\n",
       "      <td>Adventure|Science Fiction|Thriller</td>\n",
       "      <td>3/18/15</td>\n",
       "      <td>2480</td>\n",
       "      <td>6.3</td>\n",
       "      <td>2015</td>\n",
       "      <td>1.012000e+08</td>\n",
       "      <td>2.716190e+08</td>\n",
       "    </tr>\n",
       "    <tr>\n",
       "      <th>3</th>\n",
       "      <td>140607</td>\n",
       "      <td>11.173104</td>\n",
       "      <td>200000000</td>\n",
       "      <td>2068178225</td>\n",
       "      <td>Star Wars: The Force Awakens</td>\n",
       "      <td>Harrison Ford|Mark Hamill|Carrie Fisher|Adam D...</td>\n",
       "      <td>J.J. Abrams</td>\n",
       "      <td>136</td>\n",
       "      <td>Action|Adventure|Science Fiction|Fantasy</td>\n",
       "      <td>12/15/15</td>\n",
       "      <td>5292</td>\n",
       "      <td>7.5</td>\n",
       "      <td>2015</td>\n",
       "      <td>1.839999e+08</td>\n",
       "      <td>1.902723e+09</td>\n",
       "    </tr>\n",
       "    <tr>\n",
       "      <th>4</th>\n",
       "      <td>168259</td>\n",
       "      <td>9.335014</td>\n",
       "      <td>190000000</td>\n",
       "      <td>1506249360</td>\n",
       "      <td>Furious 7</td>\n",
       "      <td>Vin Diesel|Paul Walker|Jason Statham|Michelle ...</td>\n",
       "      <td>James Wan</td>\n",
       "      <td>137</td>\n",
       "      <td>Action|Crime|Thriller</td>\n",
       "      <td>4/1/15</td>\n",
       "      <td>2947</td>\n",
       "      <td>7.3</td>\n",
       "      <td>2015</td>\n",
       "      <td>1.747999e+08</td>\n",
       "      <td>1.385749e+09</td>\n",
       "    </tr>\n",
       "  </tbody>\n",
       "</table>\n",
       "</div>"
      ],
      "text/plain": [
       "       id  popularity     budget     revenue                original_title  \\\n",
       "0  135397   32.985763  150000000  1513528810                Jurassic World   \n",
       "1   76341   28.419936  150000000   378436354            Mad Max: Fury Road   \n",
       "2  262500   13.112507  110000000   295238201                     Insurgent   \n",
       "3  140607   11.173104  200000000  2068178225  Star Wars: The Force Awakens   \n",
       "4  168259    9.335014  190000000  1506249360                     Furious 7   \n",
       "\n",
       "                                                cast          director  \\\n",
       "0  Chris Pratt|Bryce Dallas Howard|Irrfan Khan|Vi...   Colin Trevorrow   \n",
       "1  Tom Hardy|Charlize Theron|Hugh Keays-Byrne|Nic...     George Miller   \n",
       "2  Shailene Woodley|Theo James|Kate Winslet|Ansel...  Robert Schwentke   \n",
       "3  Harrison Ford|Mark Hamill|Carrie Fisher|Adam D...       J.J. Abrams   \n",
       "4  Vin Diesel|Paul Walker|Jason Statham|Michelle ...         James Wan   \n",
       "\n",
       "   runtime                                     genres release_date  \\\n",
       "0      124  Action|Adventure|Science Fiction|Thriller       6/9/15   \n",
       "1      120  Action|Adventure|Science Fiction|Thriller      5/13/15   \n",
       "2      119         Adventure|Science Fiction|Thriller      3/18/15   \n",
       "3      136   Action|Adventure|Science Fiction|Fantasy     12/15/15   \n",
       "4      137                      Action|Crime|Thriller       4/1/15   \n",
       "\n",
       "   vote_count  vote_average  release_year    budget_adj   revenue_adj  \n",
       "0        5562           6.5          2015  1.379999e+08  1.392446e+09  \n",
       "1        6185           7.1          2015  1.379999e+08  3.481613e+08  \n",
       "2        2480           6.3          2015  1.012000e+08  2.716190e+08  \n",
       "3        5292           7.5          2015  1.839999e+08  1.902723e+09  \n",
       "4        2947           7.3          2015  1.747999e+08  1.385749e+09  "
      ]
     },
     "execution_count": 127,
     "metadata": {},
     "output_type": "execute_result"
    }
   ],
   "source": [
    "#droping the rows where revenue and budget values are zero\n",
    "df=df[(df.revenue != 0) & (df.budget !=0)]\n",
    "df.head()"
   ]
  },
  {
   "cell_type": "code",
   "execution_count": 128,
   "metadata": {},
   "outputs": [
    {
     "data": {
      "text/plain": [
       "(3849, 15)"
      ]
     },
     "execution_count": 128,
     "metadata": {},
     "output_type": "execute_result"
    }
   ],
   "source": [
    "df.shape"
   ]
  },
  {
   "cell_type": "code",
   "execution_count": 130,
   "metadata": {},
   "outputs": [
    {
     "name": "stdout",
     "output_type": "stream",
     "text": [
      "<class 'pandas.core.frame.DataFrame'>\n",
      "Int64Index: 3849 entries, 0 to 10848\n",
      "Data columns (total 15 columns):\n",
      " #   Column          Non-Null Count  Dtype  \n",
      "---  ------          --------------  -----  \n",
      " 0   id              3849 non-null   int64  \n",
      " 1   popularity      3849 non-null   float64\n",
      " 2   budget          3849 non-null   int64  \n",
      " 3   revenue         3849 non-null   int64  \n",
      " 4   original_title  3849 non-null   object \n",
      " 5   cast            3849 non-null   object \n",
      " 6   director        3849 non-null   object \n",
      " 7   runtime         3849 non-null   int64  \n",
      " 8   genres          3849 non-null   object \n",
      " 9   release_date    3849 non-null   object \n",
      " 10  vote_count      3849 non-null   int64  \n",
      " 11  vote_average    3849 non-null   float64\n",
      " 12  release_year    3849 non-null   int64  \n",
      " 13  budget_adj      3849 non-null   float64\n",
      " 14  revenue_adj     3849 non-null   float64\n",
      "dtypes: float64(4), int64(6), object(5)\n",
      "memory usage: 481.1+ KB\n"
     ]
    }
   ],
   "source": [
    "df.info()"
   ]
  },
  {
   "cell_type": "code",
   "execution_count": 129,
   "metadata": {},
   "outputs": [
    {
     "data": {
      "text/html": [
       "<div>\n",
       "<style scoped>\n",
       "    .dataframe tbody tr th:only-of-type {\n",
       "        vertical-align: middle;\n",
       "    }\n",
       "\n",
       "    .dataframe tbody tr th {\n",
       "        vertical-align: top;\n",
       "    }\n",
       "\n",
       "    .dataframe thead th {\n",
       "        text-align: right;\n",
       "    }\n",
       "</style>\n",
       "<table border=\"1\" class=\"dataframe\">\n",
       "  <thead>\n",
       "    <tr style=\"text-align: right;\">\n",
       "      <th></th>\n",
       "      <th>id</th>\n",
       "      <th>popularity</th>\n",
       "      <th>budget</th>\n",
       "      <th>revenue</th>\n",
       "      <th>runtime</th>\n",
       "      <th>vote_count</th>\n",
       "      <th>vote_average</th>\n",
       "      <th>release_year</th>\n",
       "      <th>budget_adj</th>\n",
       "      <th>revenue_adj</th>\n",
       "    </tr>\n",
       "  </thead>\n",
       "  <tbody>\n",
       "    <tr>\n",
       "      <th>count</th>\n",
       "      <td>3849.000000</td>\n",
       "      <td>3849.000000</td>\n",
       "      <td>3.849000e+03</td>\n",
       "      <td>3.849000e+03</td>\n",
       "      <td>3849.000000</td>\n",
       "      <td>3849.000000</td>\n",
       "      <td>3849.000000</td>\n",
       "      <td>3849.000000</td>\n",
       "      <td>3.849000e+03</td>\n",
       "      <td>3.849000e+03</td>\n",
       "    </tr>\n",
       "    <tr>\n",
       "      <th>mean</th>\n",
       "      <td>39885.146791</td>\n",
       "      <td>1.192933</td>\n",
       "      <td>3.724886e+07</td>\n",
       "      <td>1.078148e+08</td>\n",
       "      <td>109.217459</td>\n",
       "      <td>528.387114</td>\n",
       "      <td>6.168693</td>\n",
       "      <td>2001.258249</td>\n",
       "      <td>4.429360e+07</td>\n",
       "      <td>1.372313e+08</td>\n",
       "    </tr>\n",
       "    <tr>\n",
       "      <th>std</th>\n",
       "      <td>67248.890597</td>\n",
       "      <td>1.475622</td>\n",
       "      <td>4.221699e+07</td>\n",
       "      <td>1.766175e+08</td>\n",
       "      <td>19.914141</td>\n",
       "      <td>880.333629</td>\n",
       "      <td>0.794697</td>\n",
       "      <td>11.285642</td>\n",
       "      <td>4.481360e+07</td>\n",
       "      <td>2.162018e+08</td>\n",
       "    </tr>\n",
       "    <tr>\n",
       "      <th>min</th>\n",
       "      <td>5.000000</td>\n",
       "      <td>0.001117</td>\n",
       "      <td>1.000000e+00</td>\n",
       "      <td>2.000000e+00</td>\n",
       "      <td>15.000000</td>\n",
       "      <td>10.000000</td>\n",
       "      <td>2.200000</td>\n",
       "      <td>1960.000000</td>\n",
       "      <td>9.693980e-01</td>\n",
       "      <td>2.370705e+00</td>\n",
       "    </tr>\n",
       "    <tr>\n",
       "      <th>25%</th>\n",
       "      <td>6072.000000</td>\n",
       "      <td>0.463337</td>\n",
       "      <td>1.000000e+07</td>\n",
       "      <td>1.367069e+07</td>\n",
       "      <td>95.000000</td>\n",
       "      <td>71.000000</td>\n",
       "      <td>5.700000</td>\n",
       "      <td>1995.000000</td>\n",
       "      <td>1.316623e+07</td>\n",
       "      <td>1.843023e+07</td>\n",
       "    </tr>\n",
       "    <tr>\n",
       "      <th>50%</th>\n",
       "      <td>11313.000000</td>\n",
       "      <td>0.798582</td>\n",
       "      <td>2.400000e+07</td>\n",
       "      <td>4.490726e+07</td>\n",
       "      <td>106.000000</td>\n",
       "      <td>205.000000</td>\n",
       "      <td>6.200000</td>\n",
       "      <td>2004.000000</td>\n",
       "      <td>3.005030e+07</td>\n",
       "      <td>6.181393e+07</td>\n",
       "    </tr>\n",
       "    <tr>\n",
       "      <th>75%</th>\n",
       "      <td>38575.000000</td>\n",
       "      <td>1.374300</td>\n",
       "      <td>5.000000e+07</td>\n",
       "      <td>1.243052e+08</td>\n",
       "      <td>119.000000</td>\n",
       "      <td>581.000000</td>\n",
       "      <td>6.700000</td>\n",
       "      <td>2010.000000</td>\n",
       "      <td>6.076720e+07</td>\n",
       "      <td>1.634115e+08</td>\n",
       "    </tr>\n",
       "    <tr>\n",
       "      <th>max</th>\n",
       "      <td>417859.000000</td>\n",
       "      <td>32.985763</td>\n",
       "      <td>4.250000e+08</td>\n",
       "      <td>2.781506e+09</td>\n",
       "      <td>338.000000</td>\n",
       "      <td>9767.000000</td>\n",
       "      <td>8.400000</td>\n",
       "      <td>2015.000000</td>\n",
       "      <td>4.250000e+08</td>\n",
       "      <td>2.827124e+09</td>\n",
       "    </tr>\n",
       "  </tbody>\n",
       "</table>\n",
       "</div>"
      ],
      "text/plain": [
       "                  id   popularity        budget       revenue      runtime  \\\n",
       "count    3849.000000  3849.000000  3.849000e+03  3.849000e+03  3849.000000   \n",
       "mean    39885.146791     1.192933  3.724886e+07  1.078148e+08   109.217459   \n",
       "std     67248.890597     1.475622  4.221699e+07  1.766175e+08    19.914141   \n",
       "min         5.000000     0.001117  1.000000e+00  2.000000e+00    15.000000   \n",
       "25%      6072.000000     0.463337  1.000000e+07  1.367069e+07    95.000000   \n",
       "50%     11313.000000     0.798582  2.400000e+07  4.490726e+07   106.000000   \n",
       "75%     38575.000000     1.374300  5.000000e+07  1.243052e+08   119.000000   \n",
       "max    417859.000000    32.985763  4.250000e+08  2.781506e+09   338.000000   \n",
       "\n",
       "        vote_count  vote_average  release_year    budget_adj   revenue_adj  \n",
       "count  3849.000000   3849.000000   3849.000000  3.849000e+03  3.849000e+03  \n",
       "mean    528.387114      6.168693   2001.258249  4.429360e+07  1.372313e+08  \n",
       "std     880.333629      0.794697     11.285642  4.481360e+07  2.162018e+08  \n",
       "min      10.000000      2.200000   1960.000000  9.693980e-01  2.370705e+00  \n",
       "25%      71.000000      5.700000   1995.000000  1.316623e+07  1.843023e+07  \n",
       "50%     205.000000      6.200000   2004.000000  3.005030e+07  6.181393e+07  \n",
       "75%     581.000000      6.700000   2010.000000  6.076720e+07  1.634115e+08  \n",
       "max    9767.000000      8.400000   2015.000000  4.250000e+08  2.827124e+09  "
      ]
     },
     "execution_count": 129,
     "metadata": {},
     "output_type": "execute_result"
    }
   ],
   "source": [
    "df.describe()"
   ]
  },
  {
   "cell_type": "markdown",
   "metadata": {},
   "source": [
    "**Runtime column already corrected!**\n",
    "> Removing the rows with zero values for budget and revenue auto-removed the rows with zero runtime values, hence there is ni minimmium value of zero anymore. \n",
    ">\n",
    ">\n",
    "> This shows that all the rows with zero runtime values had either zero as budget value or zero as revenue value"
   ]
  },
  {
   "cell_type": "markdown",
   "metadata": {},
   "source": [
    "**Cleaned Data Details**\n",
    "\n",
    "> 1. Shape : 3849 rows and 15 columns\n",
    ">\n",
    ">\n",
    "> 2. Datatypes : All columns have the correct data types needed for the EDA upcoming.\n"
   ]
  },
  {
   "cell_type": "markdown",
   "metadata": {},
   "source": [
    "<a id='eda'></a>\n",
    "## Exploratory Data Analysis\n",
    "\n",
    "> **Tip**: Now that you've trimmed and cleaned your data, you're ready to move on to exploration. Compute statistics and create visualizations with the goal of addressing the research questions that you posed in the Introduction section. It is recommended that you be systematic with your approach. Look at one variable at a time, and then follow it up by looking at relationships between variables.\n",
    "\n",
    "### Research Question 1 Does how popular a movie is depend on the Revenue invested?!"
   ]
  },
  {
   "cell_type": "code",
   "execution_count": null,
   "metadata": {},
   "outputs": [],
   "source": [
    "# Use this, and more code cells, to explore your data. Don't forget to add\n",
    "#   Markdown cells to document your observations and findings.\n"
   ]
  },
  {
   "cell_type": "code",
   "execution_count": 162,
   "metadata": {},
   "outputs": [
    {
     "data": {
      "text/plain": [
       "count    3849.000000\n",
       "mean        1.192933\n",
       "std         1.475622\n",
       "min         0.001117\n",
       "25%         0.463337\n",
       "50%         0.798582\n",
       "75%         1.374300\n",
       "max        32.985763\n",
       "Name: popularity, dtype: float64"
      ]
     },
     "execution_count": 162,
     "metadata": {},
     "output_type": "execute_result"
    }
   ],
   "source": [
    "# Stats on popularity column\n",
    "df['popularity'].describe()"
   ]
  },
  {
   "cell_type": "code",
   "execution_count": 163,
   "metadata": {},
   "outputs": [
    {
     "data": {
      "text/html": [
       "<div>\n",
       "<style scoped>\n",
       "    .dataframe tbody tr th:only-of-type {\n",
       "        vertical-align: middle;\n",
       "    }\n",
       "\n",
       "    .dataframe tbody tr th {\n",
       "        vertical-align: top;\n",
       "    }\n",
       "\n",
       "    .dataframe thead th {\n",
       "        text-align: right;\n",
       "    }\n",
       "</style>\n",
       "<table border=\"1\" class=\"dataframe\">\n",
       "  <thead>\n",
       "    <tr style=\"text-align: right;\">\n",
       "      <th></th>\n",
       "      <th>id</th>\n",
       "      <th>popularity</th>\n",
       "      <th>budget</th>\n",
       "      <th>revenue</th>\n",
       "      <th>original_title</th>\n",
       "      <th>cast</th>\n",
       "      <th>director</th>\n",
       "      <th>runtime</th>\n",
       "      <th>genres</th>\n",
       "      <th>release_date</th>\n",
       "      <th>vote_count</th>\n",
       "      <th>vote_average</th>\n",
       "      <th>release_year</th>\n",
       "      <th>budget_adj</th>\n",
       "      <th>revenue_adj</th>\n",
       "      <th>pop</th>\n",
       "    </tr>\n",
       "  </thead>\n",
       "  <tbody>\n",
       "    <tr>\n",
       "      <th>0</th>\n",
       "      <td>135397</td>\n",
       "      <td>32.985763</td>\n",
       "      <td>150000000</td>\n",
       "      <td>1513528810</td>\n",
       "      <td>Jurassic World</td>\n",
       "      <td>Chris Pratt|Bryce Dallas Howard|Irrfan Khan|Vi...</td>\n",
       "      <td>Colin Trevorrow</td>\n",
       "      <td>124</td>\n",
       "      <td>Action|Adventure|Science Fiction|Thriller</td>\n",
       "      <td>6/9/15</td>\n",
       "      <td>5562</td>\n",
       "      <td>6.5</td>\n",
       "      <td>2015</td>\n",
       "      <td>1.379999e+08</td>\n",
       "      <td>1.392446e+09</td>\n",
       "      <td>Best</td>\n",
       "    </tr>\n",
       "    <tr>\n",
       "      <th>1</th>\n",
       "      <td>76341</td>\n",
       "      <td>28.419936</td>\n",
       "      <td>150000000</td>\n",
       "      <td>378436354</td>\n",
       "      <td>Mad Max: Fury Road</td>\n",
       "      <td>Tom Hardy|Charlize Theron|Hugh Keays-Byrne|Nic...</td>\n",
       "      <td>George Miller</td>\n",
       "      <td>120</td>\n",
       "      <td>Action|Adventure|Science Fiction|Thriller</td>\n",
       "      <td>5/13/15</td>\n",
       "      <td>6185</td>\n",
       "      <td>7.1</td>\n",
       "      <td>2015</td>\n",
       "      <td>1.379999e+08</td>\n",
       "      <td>3.481613e+08</td>\n",
       "      <td>Best</td>\n",
       "    </tr>\n",
       "    <tr>\n",
       "      <th>2</th>\n",
       "      <td>262500</td>\n",
       "      <td>13.112507</td>\n",
       "      <td>110000000</td>\n",
       "      <td>295238201</td>\n",
       "      <td>Insurgent</td>\n",
       "      <td>Shailene Woodley|Theo James|Kate Winslet|Ansel...</td>\n",
       "      <td>Robert Schwentke</td>\n",
       "      <td>119</td>\n",
       "      <td>Adventure|Science Fiction|Thriller</td>\n",
       "      <td>3/18/15</td>\n",
       "      <td>2480</td>\n",
       "      <td>6.3</td>\n",
       "      <td>2015</td>\n",
       "      <td>1.012000e+08</td>\n",
       "      <td>2.716190e+08</td>\n",
       "      <td>Best</td>\n",
       "    </tr>\n",
       "    <tr>\n",
       "      <th>3</th>\n",
       "      <td>140607</td>\n",
       "      <td>11.173104</td>\n",
       "      <td>200000000</td>\n",
       "      <td>2068178225</td>\n",
       "      <td>Star Wars: The Force Awakens</td>\n",
       "      <td>Harrison Ford|Mark Hamill|Carrie Fisher|Adam D...</td>\n",
       "      <td>J.J. Abrams</td>\n",
       "      <td>136</td>\n",
       "      <td>Action|Adventure|Science Fiction|Fantasy</td>\n",
       "      <td>12/15/15</td>\n",
       "      <td>5292</td>\n",
       "      <td>7.5</td>\n",
       "      <td>2015</td>\n",
       "      <td>1.839999e+08</td>\n",
       "      <td>1.902723e+09</td>\n",
       "      <td>Best</td>\n",
       "    </tr>\n",
       "    <tr>\n",
       "      <th>4</th>\n",
       "      <td>168259</td>\n",
       "      <td>9.335014</td>\n",
       "      <td>190000000</td>\n",
       "      <td>1506249360</td>\n",
       "      <td>Furious 7</td>\n",
       "      <td>Vin Diesel|Paul Walker|Jason Statham|Michelle ...</td>\n",
       "      <td>James Wan</td>\n",
       "      <td>137</td>\n",
       "      <td>Action|Crime|Thriller</td>\n",
       "      <td>4/1/15</td>\n",
       "      <td>2947</td>\n",
       "      <td>7.3</td>\n",
       "      <td>2015</td>\n",
       "      <td>1.747999e+08</td>\n",
       "      <td>1.385749e+09</td>\n",
       "      <td>Best</td>\n",
       "    </tr>\n",
       "  </tbody>\n",
       "</table>\n",
       "</div>"
      ],
      "text/plain": [
       "       id  popularity     budget     revenue                original_title  \\\n",
       "0  135397   32.985763  150000000  1513528810                Jurassic World   \n",
       "1   76341   28.419936  150000000   378436354            Mad Max: Fury Road   \n",
       "2  262500   13.112507  110000000   295238201                     Insurgent   \n",
       "3  140607   11.173104  200000000  2068178225  Star Wars: The Force Awakens   \n",
       "4  168259    9.335014  190000000  1506249360                     Furious 7   \n",
       "\n",
       "                                                cast          director  \\\n",
       "0  Chris Pratt|Bryce Dallas Howard|Irrfan Khan|Vi...   Colin Trevorrow   \n",
       "1  Tom Hardy|Charlize Theron|Hugh Keays-Byrne|Nic...     George Miller   \n",
       "2  Shailene Woodley|Theo James|Kate Winslet|Ansel...  Robert Schwentke   \n",
       "3  Harrison Ford|Mark Hamill|Carrie Fisher|Adam D...       J.J. Abrams   \n",
       "4  Vin Diesel|Paul Walker|Jason Statham|Michelle ...         James Wan   \n",
       "\n",
       "   runtime                                     genres release_date  \\\n",
       "0      124  Action|Adventure|Science Fiction|Thriller       6/9/15   \n",
       "1      120  Action|Adventure|Science Fiction|Thriller      5/13/15   \n",
       "2      119         Adventure|Science Fiction|Thriller      3/18/15   \n",
       "3      136   Action|Adventure|Science Fiction|Fantasy     12/15/15   \n",
       "4      137                      Action|Crime|Thriller       4/1/15   \n",
       "\n",
       "   vote_count  vote_average  release_year    budget_adj   revenue_adj   pop  \n",
       "0        5562           6.5          2015  1.379999e+08  1.392446e+09  Best  \n",
       "1        6185           7.1          2015  1.379999e+08  3.481613e+08  Best  \n",
       "2        2480           6.3          2015  1.012000e+08  2.716190e+08  Best  \n",
       "3        5292           7.5          2015  1.839999e+08  1.902723e+09  Best  \n",
       "4        2947           7.3          2015  1.747999e+08  1.385749e+09  Best  "
      ]
     },
     "execution_count": 163,
     "metadata": {},
     "output_type": "execute_result"
    }
   ],
   "source": [
    "# creating a categorical data out of the popularity of movie\n",
    "bin_edges=[0.001117, 0.463337, 0.798582, 1.374300, 32.985763]\n",
    "bin_names=['Poor','Average','Good','Best']\n",
    "df1['pop']=pd.cut(df['popularity'], bin_edges, labels=bin_names)\n",
    "df1.head()"
   ]
  },
  {
   "cell_type": "code",
   "execution_count": 160,
   "metadata": {},
   "outputs": [
    {
     "data": {
      "text/plain": [
       "pop\n",
       "Poor       2.503968e+07\n",
       "Average    5.024751e+07\n",
       "Good       9.286848e+07\n",
       "Best       2.632120e+08\n",
       "Name: revenue, dtype: float64"
      ]
     },
     "execution_count": 160,
     "metadata": {},
     "output_type": "execute_result"
    }
   ],
   "source": [
    "grouped_popularity=df1.groupby('pop')\n",
    "pop_revenue_means=grouped_popularity['revenue'].mean()\n",
    "pop_revenue_means"
   ]
  },
  {
   "cell_type": "code",
   "execution_count": 166,
   "metadata": {},
   "outputs": [
    {
     "data": {
      "text/plain": [
       "Text(0, 0.5, 'Average Revenue ')"
      ]
     },
     "execution_count": 166,
     "metadata": {},
     "output_type": "execute_result"
    },
    {
     "data": {
      "image/png": "[encoded data removed]",
      "text/plain": [
       "<Figure size 612x432 with 1 Axes>"
      ]
     },
     "metadata": {
      "needs_background": "light"
     },
     "output_type": "display_data"
    }
   ],
   "source": [
    "locations=[1,2,3,4]\n",
    "heights=pop_revenue_means\n",
    "labels = pop_revenue_means.index.str.title()\n",
    "plt.bar(locations, heights, tick_label=labels)\n",
    "plt.title('Average Revenue by Popularity', fontsize=16)\n",
    "plt.xlabel('Popularity', fontsize=14)\n",
    "plt.ylabel('Average Revenue ', fontsize=14)"
   ]
  },
  {
   "cell_type": "markdown",
   "metadata": {},
   "source": [
    "### Findings\n",
    "> The more popular the movie the more the average revenues generated. "
   ]
  },
  {
   "cell_type": "code",
   "execution_count": 167,
   "metadata": {},
   "outputs": [
    {
     "data": {
      "text/plain": [
       "pop\n",
       "Poor       1.720997e+07\n",
       "Average    2.660410e+07\n",
       "Good       3.764354e+07\n",
       "Best       6.757619e+07\n",
       "Name: budget, dtype: float64"
      ]
     },
     "execution_count": 167,
     "metadata": {},
     "output_type": "execute_result"
    }
   ],
   "source": [
    "pop_budget_means=grouped_popularity['budget'].mean()\n",
    "pop_budget_means"
   ]
  },
  {
   "cell_type": "code",
   "execution_count": 168,
   "metadata": {},
   "outputs": [
    {
     "data": {
      "text/plain": [
       "Text(0, 0.5, 'Average Budget ')"
      ]
     },
     "execution_count": 168,
     "metadata": {},
     "output_type": "execute_result"
    },
    {
     "data": {
      "image/png": "[encoded data removed]",
      "text/plain": [
       "<Figure size 612x432 with 1 Axes>"
      ]
     },
     "metadata": {
      "needs_background": "light"
     },
     "output_type": "display_data"
    }
   ],
   "source": [
    "locations=[1,2,3,4]\n",
    "heights1=pop_budget_means\n",
    "labels1 = pop_budget_means.index.str.title()\n",
    "plt.bar(locations, heights1, tick_label=labels1)\n",
    "plt.title('Average Budget by Popularity', fontsize=16)\n",
    "plt.xlabel('Popularity', fontsize=14)\n",
    "plt.ylabel('Average Budget ', fontsize=14)"
   ]
  },
  {
   "cell_type": "markdown",
   "metadata": {},
   "source": [
    "### Findings\n",
    "> The more popular the movie the more the average budget invested."
   ]
  },
  {
   "cell_type": "code",
   "execution_count": 170,
   "metadata": {},
   "outputs": [
    {
     "data": {
      "text/plain": [
       "Text(0, 0.5, 'Average runtime ')"
      ]
     },
     "execution_count": 170,
     "metadata": {},
     "output_type": "execute_result"
    },
    {
     "data": {
      "image/png": "[encoded data removed]",
      "text/plain": [
       "<Figure size 612x432 with 1 Axes>"
      ]
     },
     "metadata": {
      "needs_background": "light"
     },
     "output_type": "display_data"
    }
   ],
   "source": [
    "pop_runtime_means=grouped_popularity['runtime'].mean()\n",
    "locations=[1,2,3,4]\n",
    "heights2=pop_runtime_means\n",
    "labels2 = pop_runtime_means.index.str.title()\n",
    "plt.bar(locations, heights2, tick_label=labels2)\n",
    "plt.title('Average runtime by Popularity', fontsize=16)\n",
    "plt.xlabel('Popularity', fontsize=14)\n",
    "plt.ylabel('Average runtime ', fontsize=14)"
   ]
  },
  {
   "cell_type": "code",
   "execution_count": 173,
   "metadata": {},
   "outputs": [
    {
     "data": {
      "text/plain": [
       "Text(0, 0.5, 'Average runtime ')"
      ]
     },
     "execution_count": 173,
     "metadata": {},
     "output_type": "execute_result"
    },
    {
     "data": {
      "image/png": "[encoded data removed]",
      "text/plain": [
       "<Figure size 612x432 with 1 Axes>"
      ]
     },
     "metadata": {
      "needs_background": "light"
     },
     "output_type": "display_data"
    }
   ],
   "source": [
    "plt.plot(pop_runtime_means.index.tolist(), pop_runtime_means.values.tolist());\n",
    "plt.title('Average runtime by Popularity', fontsize=16)\n",
    "plt.xlabel('Popularity', fontsize=14)\n",
    "plt.ylabel('Average runtime ', fontsize=14)"
   ]
  },
  {
   "cell_type": "markdown",
   "metadata": {},
   "source": [
    "### Findings\n",
    "> The longer movies were averagely popular than short ones"
   ]
  },
  {
   "cell_type": "code",
   "execution_count": 184,
   "metadata": {},
   "outputs": [
    {
     "data": {
      "text/plain": [
       "Text(0, 0.5, 'Budget ')"
      ]
     },
     "execution_count": 184,
     "metadata": {},
     "output_type": "execute_result"
    },
    {
     "data": {
      "image/png": "[encoded data removed]",
      "text/plain": [
       "<Figure size 612x432 with 1 Axes>"
      ]
     },
     "metadata": {
      "needs_background": "light"
     },
     "output_type": "display_data"
    }
   ],
   "source": [
    "plt.scatter(df['popularity'], df['budget']);\n",
    "plt.title('Correlation between Popularity and Budget', fontsize=16)\n",
    "plt.xlabel('Popularity', fontsize=14)\n",
    "plt.ylabel('Budget ', fontsize=14)"
   ]
  },
  {
   "cell_type": "markdown",
   "metadata": {},
   "source": [
    "### Research Question 2 : How does the vote ratings(vote_average) affect the revenue, budget, profit and runtime a movie?"
   ]
  },
  {
   "cell_type": "code",
   "execution_count": null,
   "metadata": {},
   "outputs": [],
   "source": [
    "# Continue to explore the data to address your additional research\n",
    "#   questions. Add more headers as needed if you have more questions to\n",
    "#   investigate.\n"
   ]
  },
  {
   "cell_type": "code",
   "execution_count": 268,
   "metadata": {
    "scrolled": true
   },
   "outputs": [
    {
     "data": {
      "text/html": [
       "<div>\n",
       "<style scoped>\n",
       "    .dataframe tbody tr th:only-of-type {\n",
       "        vertical-align: middle;\n",
       "    }\n",
       "\n",
       "    .dataframe tbody tr th {\n",
       "        vertical-align: top;\n",
       "    }\n",
       "\n",
       "    .dataframe thead th {\n",
       "        text-align: right;\n",
       "    }\n",
       "</style>\n",
       "<table border=\"1\" class=\"dataframe\">\n",
       "  <thead>\n",
       "    <tr style=\"text-align: right;\">\n",
       "      <th></th>\n",
       "      <th>id</th>\n",
       "      <th>popularity</th>\n",
       "      <th>budget</th>\n",
       "      <th>revenue</th>\n",
       "      <th>original_title</th>\n",
       "      <th>cast</th>\n",
       "      <th>director</th>\n",
       "      <th>runtime</th>\n",
       "      <th>genres</th>\n",
       "      <th>release_date</th>\n",
       "      <th>vote_count</th>\n",
       "      <th>vote_average</th>\n",
       "      <th>release_year</th>\n",
       "      <th>budget_adj</th>\n",
       "      <th>revenue_adj</th>\n",
       "      <th>pop</th>\n",
       "    </tr>\n",
       "  </thead>\n",
       "  <tbody>\n",
       "    <tr>\n",
       "      <th>0</th>\n",
       "      <td>135397</td>\n",
       "      <td>32.985763</td>\n",
       "      <td>150000000</td>\n",
       "      <td>1513528810</td>\n",
       "      <td>Jurassic World</td>\n",
       "      <td>Chris Pratt|Bryce Dallas Howard|Irrfan Khan|Vi...</td>\n",
       "      <td>Colin Trevorrow</td>\n",
       "      <td>124</td>\n",
       "      <td>Action|Adventure|Science Fiction|Thriller</td>\n",
       "      <td>6/9/15</td>\n",
       "      <td>5562</td>\n",
       "      <td>6.5</td>\n",
       "      <td>2015</td>\n",
       "      <td>1.379999e+08</td>\n",
       "      <td>1.392446e+09</td>\n",
       "      <td>Best</td>\n",
       "    </tr>\n",
       "  </tbody>\n",
       "</table>\n",
       "</div>"
      ],
      "text/plain": [
       "       id  popularity     budget     revenue  original_title  \\\n",
       "0  135397   32.985763  150000000  1513528810  Jurassic World   \n",
       "\n",
       "                                                cast         director  \\\n",
       "0  Chris Pratt|Bryce Dallas Howard|Irrfan Khan|Vi...  Colin Trevorrow   \n",
       "\n",
       "   runtime                                     genres release_date  \\\n",
       "0      124  Action|Adventure|Science Fiction|Thriller       6/9/15   \n",
       "\n",
       "   vote_count  vote_average  release_year    budget_adj   revenue_adj   pop  \n",
       "0        5562           6.5          2015  1.379999e+08  1.392446e+09  Best  "
      ]
     },
     "execution_count": 268,
     "metadata": {},
     "output_type": "execute_result"
    }
   ],
   "source": [
    "df.head(1)"
   ]
  },
  {
   "cell_type": "code",
   "execution_count": 293,
   "metadata": {},
   "outputs": [
    {
     "data": {
      "text/plain": [
       "count    3849.000000\n",
       "mean        6.168693\n",
       "std         0.794697\n",
       "min         2.200000\n",
       "25%         5.700000\n",
       "50%         6.200000\n",
       "75%         6.700000\n",
       "max         8.400000\n",
       "Name: vote_average, dtype: float64"
      ]
     },
     "execution_count": 293,
     "metadata": {},
     "output_type": "execute_result"
    }
   ],
   "source": [
    "# Viewing the basic statistical parameters of the vote_average of the movies\n",
    "df['vote_average'].describe()"
   ]
  },
  {
   "cell_type": "code",
   "execution_count": 320,
   "metadata": {},
   "outputs": [
    {
     "data": {
      "text/html": [
       "<div>\n",
       "<style scoped>\n",
       "    .dataframe tbody tr th:only-of-type {\n",
       "        vertical-align: middle;\n",
       "    }\n",
       "\n",
       "    .dataframe tbody tr th {\n",
       "        vertical-align: top;\n",
       "    }\n",
       "\n",
       "    .dataframe thead th {\n",
       "        text-align: right;\n",
       "    }\n",
       "</style>\n",
       "<table border=\"1\" class=\"dataframe\">\n",
       "  <thead>\n",
       "    <tr style=\"text-align: right;\">\n",
       "      <th></th>\n",
       "      <th>id</th>\n",
       "      <th>popularity</th>\n",
       "      <th>budget</th>\n",
       "      <th>revenue</th>\n",
       "      <th>original_title</th>\n",
       "      <th>cast</th>\n",
       "      <th>director</th>\n",
       "      <th>runtime</th>\n",
       "      <th>genres</th>\n",
       "      <th>release_date</th>\n",
       "      <th>vote_count</th>\n",
       "      <th>vote_average</th>\n",
       "      <th>release_year</th>\n",
       "      <th>budget_adj</th>\n",
       "      <th>revenue_adj</th>\n",
       "      <th>pop</th>\n",
       "      <th>vote</th>\n",
       "      <th>profit</th>\n",
       "    </tr>\n",
       "  </thead>\n",
       "  <tbody>\n",
       "    <tr>\n",
       "      <th>0</th>\n",
       "      <td>135397</td>\n",
       "      <td>32.985763</td>\n",
       "      <td>150000000</td>\n",
       "      <td>1513528810</td>\n",
       "      <td>Jurassic World</td>\n",
       "      <td>Chris Pratt|Bryce Dallas Howard|Irrfan Khan|Vi...</td>\n",
       "      <td>Colin Trevorrow</td>\n",
       "      <td>124</td>\n",
       "      <td>Action|Adventure|Science Fiction|Thriller</td>\n",
       "      <td>6/9/15</td>\n",
       "      <td>5562</td>\n",
       "      <td>6.5</td>\n",
       "      <td>2015</td>\n",
       "      <td>1.379999e+08</td>\n",
       "      <td>1.392446e+09</td>\n",
       "      <td>Best</td>\n",
       "      <td>Fairly High</td>\n",
       "      <td>1363528810</td>\n",
       "    </tr>\n",
       "  </tbody>\n",
       "</table>\n",
       "</div>"
      ],
      "text/plain": [
       "       id  popularity     budget     revenue  original_title  \\\n",
       "0  135397   32.985763  150000000  1513528810  Jurassic World   \n",
       "\n",
       "                                                cast         director  \\\n",
       "0  Chris Pratt|Bryce Dallas Howard|Irrfan Khan|Vi...  Colin Trevorrow   \n",
       "\n",
       "   runtime                                     genres release_date  \\\n",
       "0      124  Action|Adventure|Science Fiction|Thriller       6/9/15   \n",
       "\n",
       "   vote_count  vote_average  release_year    budget_adj   revenue_adj   pop  \\\n",
       "0        5562           6.5          2015  1.379999e+08  1.392446e+09  Best   \n",
       "\n",
       "          vote      profit  \n",
       "0  Fairly High  1363528810  "
      ]
     },
     "execution_count": 320,
     "metadata": {},
     "output_type": "execute_result"
    }
   ],
   "source": [
    "# Creating categories for Vote_average ratings.\n",
    "# Categories are Lowest, Average, Fairly High and Highest\n",
    "bin_edges1=[2.100000, 5.700000, 6.200000, 6.700000, 8.500000]\n",
    "bin_names1=['Lowest','Average','Fairly High','Highest']\n",
    "df1['vote']=pd.cut(df['vote_average'], bin_edges1, labels=bin_names1)\n",
    "df1['profit']=df1['revenue']-df1['budget']\n",
    "df1.head(1)"
   ]
  },
  {
   "cell_type": "code",
   "execution_count": 331,
   "metadata": {
    "scrolled": false
   },
   "outputs": [
    {
     "name": "stderr",
     "output_type": "stream",
     "text": [
      "C:\\Users\\Anointed\\Anaconda3\\envs\\Trial\\lib\\site-packages\\ipykernel_launcher.py:1: FutureWarning: Indexing with multiple keys (implicitly converted to a tuple of keys) will be deprecated, use a list instead.\n",
      "  \"\"\"Entry point for launching an IPython kernel.\n"
     ]
    },
    {
     "data": {
      "text/html": [
       "<div>\n",
       "<style scoped>\n",
       "    .dataframe tbody tr th:only-of-type {\n",
       "        vertical-align: middle;\n",
       "    }\n",
       "\n",
       "    .dataframe tbody tr th {\n",
       "        vertical-align: top;\n",
       "    }\n",
       "\n",
       "    .dataframe thead th {\n",
       "        text-align: right;\n",
       "    }\n",
       "</style>\n",
       "<table border=\"1\" class=\"dataframe\">\n",
       "  <thead>\n",
       "    <tr style=\"text-align: right;\">\n",
       "      <th></th>\n",
       "      <th>budget</th>\n",
       "      <th>revenue</th>\n",
       "      <th>runtime</th>\n",
       "      <th>profit</th>\n",
       "    </tr>\n",
       "    <tr>\n",
       "      <th>vote</th>\n",
       "      <th></th>\n",
       "      <th></th>\n",
       "      <th></th>\n",
       "      <th></th>\n",
       "    </tr>\n",
       "  </thead>\n",
       "  <tbody>\n",
       "    <tr>\n",
       "      <th>Lowest</th>\n",
       "      <td>3.580855e+07</td>\n",
       "      <td>6.444357e+07</td>\n",
       "      <td>101.324864</td>\n",
       "      <td>2.863501e+07</td>\n",
       "    </tr>\n",
       "    <tr>\n",
       "      <th>Average</th>\n",
       "      <td>3.934508e+07</td>\n",
       "      <td>9.886905e+07</td>\n",
       "      <td>106.940299</td>\n",
       "      <td>5.952397e+07</td>\n",
       "    </tr>\n",
       "    <tr>\n",
       "      <th>Fairly High</th>\n",
       "      <td>3.717550e+07</td>\n",
       "      <td>1.128056e+08</td>\n",
       "      <td>111.536935</td>\n",
       "      <td>7.563010e+07</td>\n",
       "    </tr>\n",
       "    <tr>\n",
       "      <th>Highest</th>\n",
       "      <td>3.690241e+07</td>\n",
       "      <td>1.650871e+08</td>\n",
       "      <td>118.895787</td>\n",
       "      <td>1.281847e+08</td>\n",
       "    </tr>\n",
       "  </tbody>\n",
       "</table>\n",
       "</div>"
      ],
      "text/plain": [
       "                   budget       revenue     runtime        profit\n",
       "vote                                                             \n",
       "Lowest       3.580855e+07  6.444357e+07  101.324864  2.863501e+07\n",
       "Average      3.934508e+07  9.886905e+07  106.940299  5.952397e+07\n",
       "Fairly High  3.717550e+07  1.128056e+08  111.536935  7.563010e+07\n",
       "Highest      3.690241e+07  1.650871e+08  118.895787  1.281847e+08"
      ]
     },
     "execution_count": 331,
     "metadata": {},
     "output_type": "execute_result"
    }
   ],
   "source": [
    "#Grouping the datasets vote (categories from vote_average) and viewing the target variables budget, revenue, runtime and profit\n",
    "vote_table=df1.groupby(\"vote\")['budget', 'revenue', 'runtime','profit'].mean()\n",
    "vote_table"
   ]
  },
  {
   "cell_type": "code",
   "execution_count": 337,
   "metadata": {},
   "outputs": [
    {
     "data": {
      "text/plain": [
       "Text(0, 0.5, 'Average Revenue ')"
      ]
     },
     "execution_count": 337,
     "metadata": {},
     "output_type": "execute_result"
    },
    {
     "data": {
      "image/png": "[encoded data removed]",
      "text/plain": [
       "<Figure size 612x432 with 1 Axes>"
      ]
     },
     "metadata": {
      "needs_background": "light"
     },
     "output_type": "display_data"
    }
   ],
   "source": [
    "#plotting the average Revenue by vote to gain insight\n",
    "locations_vote=[1,2,3,4]\n",
    "revenue_vote=vote_table['revenue']\n",
    "labels_vote = vote_table.index.str.title()\n",
    "plt.bar(locations_vote, revenue_vote, tick_label=labels_vote)\n",
    "plt.title('Average Revenue by Vote', fontsize=16)\n",
    "plt.xlabel('Vote', fontsize=14)\n",
    "plt.ylabel('Average Revenue ', fontsize=14)"
   ]
  },
  {
   "cell_type": "markdown",
   "metadata": {},
   "source": [
    "### Findings\n",
    "> The movies with better ratings generated more average Revenue"
   ]
  },
  {
   "cell_type": "code",
   "execution_count": 338,
   "metadata": {},
   "outputs": [
    {
     "data": {
      "text/plain": [
       "Text(0, 0.5, 'Average Budget ')"
      ]
     },
     "execution_count": 338,
     "metadata": {},
     "output_type": "execute_result"
    },
    {
     "data": {
      "image/png": "[encoded data removed]",
      "text/plain": [
       "<Figure size 612x432 with 1 Axes>"
      ]
     },
     "metadata": {
      "needs_background": "light"
     },
     "output_type": "display_data"
    }
   ],
   "source": [
    "#plotting the average budget by vote to gain insight\n",
    "budget_vote=vote_table['budget']\n",
    "plt.bar(locations_vote, budget_vote, tick_label=labels_vote)\n",
    "plt.title('Average Budget by Vote', fontsize=16)\n",
    "plt.xlabel('Vote', fontsize=14)\n",
    "plt.ylabel('Average Budget ', fontsize=14)"
   ]
  },
  {
   "cell_type": "code",
   "execution_count": 339,
   "metadata": {
    "scrolled": false
   },
   "outputs": [
    {
     "data": {
      "text/plain": [
       "Text(0, 0.5, 'Average Budget ')"
      ]
     },
     "execution_count": 339,
     "metadata": {},
     "output_type": "execute_result"
    },
    {
     "data": {
      "image/png": "[encoded data removed]",
      "text/plain": [
       "<Figure size 612x432 with 1 Axes>"
      ]
     },
     "metadata": {
      "needs_background": "light"
     },
     "output_type": "display_data"
    }
   ],
   "source": [
    "#plotting the average Revenue by vote to gain clear insight\n",
    "plt.plot(vote_table.index.tolist(), budget_vote.values.tolist());\n",
    "plt.title('Average Budget by Vote', fontsize=16)\n",
    "plt.xlabel('Vote', fontsize=14)\n",
    "plt.ylabel('Average Budget ', fontsize=14)"
   ]
  },
  {
   "cell_type": "code",
   "execution_count": 343,
   "metadata": {},
   "outputs": [
    {
     "data": {
      "text/plain": [
       "Text(0, 0.5, 'Average Profit ')"
      ]
     },
     "execution_count": 343,
     "metadata": {},
     "output_type": "execute_result"
    },
    {
     "data": {
      "image/png": "[encoded data removed]",
      "text/plain": [
       "<Figure size 612x432 with 1 Axes>"
      ]
     },
     "metadata": {
      "needs_background": "light"
     },
     "output_type": "display_data"
    }
   ],
   "source": [
    "#plotting the average Profit by vote to gain insight\n",
    "profit_vote=vote_table['profit']\n",
    "plt.bar(locations_vote, profit_vote, tick_label=labels_vote)\n",
    "plt.title('Average profit by Vote', fontsize=16)\n",
    "plt.xlabel('Vote', fontsize=14)\n",
    "plt.ylabel('Average Profit ', fontsize=14)"
   ]
  },
  {
   "cell_type": "code",
   "execution_count": 344,
   "metadata": {},
   "outputs": [
    {
     "data": {
      "text/plain": [
       "Text(0, 0.5, 'Average Profit ')"
      ]
     },
     "execution_count": 344,
     "metadata": {},
     "output_type": "execute_result"
    },
    {
     "data": {
      "image/png": "[encoded data removed]",
      "text/plain": [
       "<Figure size 612x432 with 1 Axes>"
      ]
     },
     "metadata": {
      "needs_background": "light"
     },
     "output_type": "display_data"
    }
   ],
   "source": [
    "#plotting the average profit by vote to gain clear insight\n",
    "plt.plot(vote_table.index.tolist(), profit_vote.values.tolist());\n",
    "plt.title('Average profit by Vote', fontsize=16)\n",
    "plt.xlabel('Vote', fontsize=14)\n",
    "plt.ylabel('Average Profit ', fontsize=14)"
   ]
  },
  {
   "cell_type": "markdown",
   "metadata": {},
   "source": [
    "### Findings\n",
    "> The best rated movies averagely generated more profit."
   ]
  },
  {
   "cell_type": "code",
   "execution_count": 341,
   "metadata": {},
   "outputs": [
    {
     "data": {
      "text/plain": [
       "Text(0, 0.5, 'Average runtime ')"
      ]
     },
     "execution_count": 341,
     "metadata": {},
     "output_type": "execute_result"
    },
    {
     "data": {
      "image/png": "[encoded data removed]",
      "text/plain": [
       "<Figure size 612x432 with 1 Axes>"
      ]
     },
     "metadata": {
      "needs_background": "light"
     },
     "output_type": "display_data"
    }
   ],
   "source": [
    "#plotting the average Runtime by vote to gain insight\n",
    "runtime_vote=vote_table['runtime']\n",
    "plt.bar(locations_vote, runtime_vote, tick_label=labels_vote)\n",
    "plt.title('Average runtime by Vote', fontsize=16)\n",
    "plt.xlabel('Vote', fontsize=14)\n",
    "plt.ylabel('Average runtime ', fontsize=14)"
   ]
  },
  {
   "cell_type": "code",
   "execution_count": 342,
   "metadata": {
    "scrolled": false
   },
   "outputs": [
    {
     "data": {
      "text/plain": [
       "Text(0, 0.5, 'Average Runtime ')"
      ]
     },
     "execution_count": 342,
     "metadata": {},
     "output_type": "execute_result"
    },
    {
     "data": {
      "image/png": "[encoded data removed]",
      "text/plain": [
       "<Figure size 612x432 with 1 Axes>"
      ]
     },
     "metadata": {
      "needs_background": "light"
     },
     "output_type": "display_data"
    }
   ],
   "source": [
    "#plotting the average runtime by vote to gain clear insight\n",
    "plt.plot(vote_table.index.tolist(), runtime_vote.values.tolist());\n",
    "plt.title('Average Runtime by Vote', fontsize=16)\n",
    "plt.xlabel('Vote', fontsize=14)\n",
    "plt.ylabel('Average Runtime ', fontsize=14)"
   ]
  },
  {
   "cell_type": "markdown",
   "metadata": {},
   "source": [
    "### Findings\n",
    "> The best rated movies where averagely longer movies(meaning had averagely high runtime)"
   ]
  },
  {
   "cell_type": "code",
   "execution_count": 322,
   "metadata": {},
   "outputs": [
    {
     "name": "stderr",
     "output_type": "stream",
     "text": [
      "C:\\Users\\Anointed\\Anaconda3\\envs\\Trial\\lib\\site-packages\\ipykernel_launcher.py:1: FutureWarning: Indexing with multiple keys (implicitly converted to a tuple of keys) will be deprecated, use a list instead.\n",
      "  \"\"\"Entry point for launching an IPython kernel.\n"
     ]
    },
    {
     "data": {
      "text/html": [
       "<div>\n",
       "<style scoped>\n",
       "    .dataframe tbody tr th:only-of-type {\n",
       "        vertical-align: middle;\n",
       "    }\n",
       "\n",
       "    .dataframe tbody tr th {\n",
       "        vertical-align: top;\n",
       "    }\n",
       "\n",
       "    .dataframe thead th {\n",
       "        text-align: right;\n",
       "    }\n",
       "</style>\n",
       "<table border=\"1\" class=\"dataframe\">\n",
       "  <thead>\n",
       "    <tr style=\"text-align: right;\">\n",
       "      <th></th>\n",
       "      <th>budget</th>\n",
       "      <th>revenue</th>\n",
       "      <th>runtime</th>\n",
       "      <th>profit</th>\n",
       "    </tr>\n",
       "    <tr>\n",
       "      <th>pop</th>\n",
       "      <th></th>\n",
       "      <th></th>\n",
       "      <th></th>\n",
       "      <th></th>\n",
       "    </tr>\n",
       "  </thead>\n",
       "  <tbody>\n",
       "    <tr>\n",
       "      <th>Poor</th>\n",
       "      <td>1.720997e+07</td>\n",
       "      <td>2.503968e+07</td>\n",
       "      <td>105.162162</td>\n",
       "      <td>7.829714e+06</td>\n",
       "    </tr>\n",
       "    <tr>\n",
       "      <th>Average</th>\n",
       "      <td>2.660410e+07</td>\n",
       "      <td>5.024751e+07</td>\n",
       "      <td>108.231809</td>\n",
       "      <td>2.364341e+07</td>\n",
       "    </tr>\n",
       "    <tr>\n",
       "      <th>Good</th>\n",
       "      <td>3.764354e+07</td>\n",
       "      <td>9.286848e+07</td>\n",
       "      <td>108.353430</td>\n",
       "      <td>5.522494e+07</td>\n",
       "    </tr>\n",
       "    <tr>\n",
       "      <th>Best</th>\n",
       "      <td>6.757619e+07</td>\n",
       "      <td>2.632120e+08</td>\n",
       "      <td>115.147609</td>\n",
       "      <td>1.956358e+08</td>\n",
       "    </tr>\n",
       "  </tbody>\n",
       "</table>\n",
       "</div>"
      ],
      "text/plain": [
       "               budget       revenue     runtime        profit\n",
       "pop                                                          \n",
       "Poor     1.720997e+07  2.503968e+07  105.162162  7.829714e+06\n",
       "Average  2.660410e+07  5.024751e+07  108.231809  2.364341e+07\n",
       "Good     3.764354e+07  9.286848e+07  108.353430  5.522494e+07\n",
       "Best     6.757619e+07  2.632120e+08  115.147609  1.956358e+08"
      ]
     },
     "execution_count": 322,
     "metadata": {},
     "output_type": "execute_result"
    }
   ],
   "source": [
    "df1.groupby('pop')['budget', 'revenue', 'runtime', 'profit'].mean()"
   ]
  },
  {
   "cell_type": "code",
   "execution_count": 323,
   "metadata": {
    "scrolled": true
   },
   "outputs": [
    {
     "name": "stderr",
     "output_type": "stream",
     "text": [
      "C:\\Users\\Anointed\\Anaconda3\\envs\\Trial\\lib\\site-packages\\ipykernel_launcher.py:1: FutureWarning: Indexing with multiple keys (implicitly converted to a tuple of keys) will be deprecated, use a list instead.\n",
      "  \"\"\"Entry point for launching an IPython kernel.\n"
     ]
    },
    {
     "data": {
      "text/html": [
       "<div>\n",
       "<style scoped>\n",
       "    .dataframe tbody tr th:only-of-type {\n",
       "        vertical-align: middle;\n",
       "    }\n",
       "\n",
       "    .dataframe tbody tr th {\n",
       "        vertical-align: top;\n",
       "    }\n",
       "\n",
       "    .dataframe thead th {\n",
       "        text-align: right;\n",
       "    }\n",
       "</style>\n",
       "<table border=\"1\" class=\"dataframe\">\n",
       "  <thead>\n",
       "    <tr style=\"text-align: right;\">\n",
       "      <th></th>\n",
       "      <th></th>\n",
       "      <th>budget</th>\n",
       "      <th>revenue</th>\n",
       "      <th>runtime</th>\n",
       "      <th>profit</th>\n",
       "    </tr>\n",
       "    <tr>\n",
       "      <th>vote</th>\n",
       "      <th>pop</th>\n",
       "      <th></th>\n",
       "      <th></th>\n",
       "      <th></th>\n",
       "      <th></th>\n",
       "    </tr>\n",
       "  </thead>\n",
       "  <tbody>\n",
       "    <tr>\n",
       "      <th rowspan=\"4\" valign=\"top\">Lowest</th>\n",
       "      <th>Poor</th>\n",
       "      <td>1.885807e+07</td>\n",
       "      <td>2.212054e+07</td>\n",
       "      <td>100.275862</td>\n",
       "      <td>3.262471e+06</td>\n",
       "    </tr>\n",
       "    <tr>\n",
       "      <th>Average</th>\n",
       "      <td>3.083909e+07</td>\n",
       "      <td>4.349966e+07</td>\n",
       "      <td>100.640351</td>\n",
       "      <td>1.266056e+07</td>\n",
       "    </tr>\n",
       "    <tr>\n",
       "      <th>Good</th>\n",
       "      <td>4.843694e+07</td>\n",
       "      <td>9.691267e+07</td>\n",
       "      <td>101.310861</td>\n",
       "      <td>4.847572e+07</td>\n",
       "    </tr>\n",
       "    <tr>\n",
       "      <th>Best</th>\n",
       "      <td>7.648190e+07</td>\n",
       "      <td>1.890069e+08</td>\n",
       "      <td>106.784483</td>\n",
       "      <td>1.125250e+08</td>\n",
       "    </tr>\n",
       "    <tr>\n",
       "      <th rowspan=\"4\" valign=\"top\">Average</th>\n",
       "      <th>Poor</th>\n",
       "      <td>1.832080e+07</td>\n",
       "      <td>2.535250e+07</td>\n",
       "      <td>106.185345</td>\n",
       "      <td>7.031704e+06</td>\n",
       "    </tr>\n",
       "    <tr>\n",
       "      <th>Average</th>\n",
       "      <td>3.010508e+07</td>\n",
       "      <td>6.100662e+07</td>\n",
       "      <td>108.237903</td>\n",
       "      <td>3.090154e+07</td>\n",
       "    </tr>\n",
       "    <tr>\n",
       "      <th>Good</th>\n",
       "      <td>4.183965e+07</td>\n",
       "      <td>1.039574e+08</td>\n",
       "      <td>105.315175</td>\n",
       "      <td>6.211772e+07</td>\n",
       "    </tr>\n",
       "    <tr>\n",
       "      <th>Best</th>\n",
       "      <td>7.182291e+07</td>\n",
       "      <td>2.239338e+08</td>\n",
       "      <td>108.288557</td>\n",
       "      <td>1.521109e+08</td>\n",
       "    </tr>\n",
       "    <tr>\n",
       "      <th rowspan=\"4\" valign=\"top\">Fairly High</th>\n",
       "      <th>Poor</th>\n",
       "      <td>1.648110e+07</td>\n",
       "      <td>2.404408e+07</td>\n",
       "      <td>109.013889</td>\n",
       "      <td>7.562976e+06</td>\n",
       "    </tr>\n",
       "    <tr>\n",
       "      <th>Average</th>\n",
       "      <td>2.276060e+07</td>\n",
       "      <td>5.161159e+07</td>\n",
       "      <td>111.397260</td>\n",
       "      <td>2.885100e+07</td>\n",
       "    </tr>\n",
       "    <tr>\n",
       "      <th>Good</th>\n",
       "      <td>3.423164e+07</td>\n",
       "      <td>9.604047e+07</td>\n",
       "      <td>111.892241</td>\n",
       "      <td>6.180883e+07</td>\n",
       "    </tr>\n",
       "    <tr>\n",
       "      <th>Best</th>\n",
       "      <td>7.209874e+07</td>\n",
       "      <td>2.658298e+08</td>\n",
       "      <td>113.711297</td>\n",
       "      <td>1.937310e+08</td>\n",
       "    </tr>\n",
       "    <tr>\n",
       "      <th rowspan=\"4\" valign=\"top\">Highest</th>\n",
       "      <th>Poor</th>\n",
       "      <td>1.194275e+07</td>\n",
       "      <td>3.411265e+07</td>\n",
       "      <td>110.802920</td>\n",
       "      <td>2.216989e+07</td>\n",
       "    </tr>\n",
       "    <tr>\n",
       "      <th>Average</th>\n",
       "      <td>1.696434e+07</td>\n",
       "      <td>4.593884e+07</td>\n",
       "      <td>120.660131</td>\n",
       "      <td>2.897450e+07</td>\n",
       "    </tr>\n",
       "    <tr>\n",
       "      <th>Good</th>\n",
       "      <td>2.226160e+07</td>\n",
       "      <td>7.022020e+07</td>\n",
       "      <td>117.286408</td>\n",
       "      <td>4.795860e+07</td>\n",
       "    </tr>\n",
       "    <tr>\n",
       "      <th>Best</th>\n",
       "      <td>6.026696e+07</td>\n",
       "      <td>3.023180e+08</td>\n",
       "      <td>121.778325</td>\n",
       "      <td>2.420510e+08</td>\n",
       "    </tr>\n",
       "  </tbody>\n",
       "</table>\n",
       "</div>"
      ],
      "text/plain": [
       "                           budget       revenue     runtime        profit\n",
       "vote        pop                                                          \n",
       "Lowest      Poor     1.885807e+07  2.212054e+07  100.275862  3.262471e+06\n",
       "            Average  3.083909e+07  4.349966e+07  100.640351  1.266056e+07\n",
       "            Good     4.843694e+07  9.691267e+07  101.310861  4.847572e+07\n",
       "            Best     7.648190e+07  1.890069e+08  106.784483  1.125250e+08\n",
       "Average     Poor     1.832080e+07  2.535250e+07  106.185345  7.031704e+06\n",
       "            Average  3.010508e+07  6.100662e+07  108.237903  3.090154e+07\n",
       "            Good     4.183965e+07  1.039574e+08  105.315175  6.211772e+07\n",
       "            Best     7.182291e+07  2.239338e+08  108.288557  1.521109e+08\n",
       "Fairly High Poor     1.648110e+07  2.404408e+07  109.013889  7.562976e+06\n",
       "            Average  2.276060e+07  5.161159e+07  111.397260  2.885100e+07\n",
       "            Good     3.423164e+07  9.604047e+07  111.892241  6.180883e+07\n",
       "            Best     7.209874e+07  2.658298e+08  113.711297  1.937310e+08\n",
       "Highest     Poor     1.194275e+07  3.411265e+07  110.802920  2.216989e+07\n",
       "            Average  1.696434e+07  4.593884e+07  120.660131  2.897450e+07\n",
       "            Good     2.226160e+07  7.022020e+07  117.286408  4.795860e+07\n",
       "            Best     6.026696e+07  3.023180e+08  121.778325  2.420510e+08"
      ]
     },
     "execution_count": 323,
     "metadata": {},
     "output_type": "execute_result"
    }
   ],
   "source": [
    "df1.groupby(['vote', 'pop'])['budget', 'revenue', 'runtime', 'profit'].mean()"
   ]
  },
  {
   "cell_type": "code",
   "execution_count": 316,
   "metadata": {},
   "outputs": [
    {
     "name": "stderr",
     "output_type": "stream",
     "text": [
      "C:\\Users\\Anointed\\Anaconda3\\envs\\Trial\\lib\\site-packages\\ipykernel_launcher.py:1: FutureWarning: Indexing with multiple keys (implicitly converted to a tuple of keys) will be deprecated, use a list instead.\n",
      "  \"\"\"Entry point for launching an IPython kernel.\n"
     ]
    },
    {
     "data": {
      "text/html": [
       "<div>\n",
       "<style scoped>\n",
       "    .dataframe tbody tr th:only-of-type {\n",
       "        vertical-align: middle;\n",
       "    }\n",
       "\n",
       "    .dataframe tbody tr th {\n",
       "        vertical-align: top;\n",
       "    }\n",
       "\n",
       "    .dataframe thead th {\n",
       "        text-align: right;\n",
       "    }\n",
       "</style>\n",
       "<table border=\"1\" class=\"dataframe\">\n",
       "  <thead>\n",
       "    <tr style=\"text-align: right;\">\n",
       "      <th></th>\n",
       "      <th>budget</th>\n",
       "      <th>revenue</th>\n",
       "      <th>runtime</th>\n",
       "      <th>profit</th>\n",
       "    </tr>\n",
       "    <tr>\n",
       "      <th>release_year</th>\n",
       "      <th></th>\n",
       "      <th></th>\n",
       "      <th></th>\n",
       "      <th></th>\n",
       "    </tr>\n",
       "  </thead>\n",
       "  <tbody>\n",
       "    <tr>\n",
       "      <th>1960</th>\n",
       "      <td>4.161390e+06</td>\n",
       "      <td>2.580100e+07</td>\n",
       "      <td>130.000000</td>\n",
       "      <td>2.163961e+07</td>\n",
       "    </tr>\n",
       "    <tr>\n",
       "      <th>1961</th>\n",
       "      <td>3.863700e+06</td>\n",
       "      <td>3.377202e+07</td>\n",
       "      <td>132.500000</td>\n",
       "      <td>2.990832e+07</td>\n",
       "    </tr>\n",
       "    <tr>\n",
       "      <th>1962</th>\n",
       "      <td>5.635714e+06</td>\n",
       "      <td>2.947569e+07</td>\n",
       "      <td>141.285714</td>\n",
       "      <td>2.383998e+07</td>\n",
       "    </tr>\n",
       "    <tr>\n",
       "      <th>1963</th>\n",
       "      <td>1.018583e+07</td>\n",
       "      <td>2.942115e+07</td>\n",
       "      <td>153.500000</td>\n",
       "      <td>1.923531e+07</td>\n",
       "    </tr>\n",
       "    <tr>\n",
       "      <th>1964</th>\n",
       "      <td>4.847880e+06</td>\n",
       "      <td>4.694479e+07</td>\n",
       "      <td>122.428571</td>\n",
       "      <td>4.209691e+07</td>\n",
       "    </tr>\n",
       "    <tr>\n",
       "      <th>1965</th>\n",
       "      <td>1.176000e+07</td>\n",
       "      <td>9.161637e+07</td>\n",
       "      <td>167.600000</td>\n",
       "      <td>7.985637e+07</td>\n",
       "    </tr>\n",
       "    <tr>\n",
       "      <th>1966</th>\n",
       "      <td>6.453600e+06</td>\n",
       "      <td>1.694734e+07</td>\n",
       "      <td>132.200000</td>\n",
       "      <td>1.049374e+07</td>\n",
       "    </tr>\n",
       "    <tr>\n",
       "      <th>1967</th>\n",
       "      <td>7.346154e+06</td>\n",
       "      <td>5.629497e+07</td>\n",
       "      <td>118.384615</td>\n",
       "      <td>4.894882e+07</td>\n",
       "    </tr>\n",
       "    <tr>\n",
       "      <th>1968</th>\n",
       "      <td>5.994444e+06</td>\n",
       "      <td>2.469131e+07</td>\n",
       "      <td>130.777778</td>\n",
       "      <td>1.869686e+07</td>\n",
       "    </tr>\n",
       "    <tr>\n",
       "      <th>1969</th>\n",
       "      <td>5.711022e+06</td>\n",
       "      <td>5.742677e+07</td>\n",
       "      <td>127.500000</td>\n",
       "      <td>5.171575e+07</td>\n",
       "    </tr>\n",
       "    <tr>\n",
       "      <th>1970</th>\n",
       "      <td>8.718359e+06</td>\n",
       "      <td>4.999745e+07</td>\n",
       "      <td>121.454545</td>\n",
       "      <td>4.127909e+07</td>\n",
       "    </tr>\n",
       "    <tr>\n",
       "      <th>1971</th>\n",
       "      <td>3.077077e+06</td>\n",
       "      <td>2.894513e+07</td>\n",
       "      <td>112.615385</td>\n",
       "      <td>2.586805e+07</td>\n",
       "    </tr>\n",
       "    <tr>\n",
       "      <th>1972</th>\n",
       "      <td>2.958032e+06</td>\n",
       "      <td>6.011252e+07</td>\n",
       "      <td>113.000000</td>\n",
       "      <td>5.715449e+07</td>\n",
       "    </tr>\n",
       "    <tr>\n",
       "      <th>1973</th>\n",
       "      <td>4.777250e+06</td>\n",
       "      <td>9.291776e+07</td>\n",
       "      <td>111.916667</td>\n",
       "      <td>8.814051e+07</td>\n",
       "    </tr>\n",
       "    <tr>\n",
       "      <th>1974</th>\n",
       "      <td>5.352692e+06</td>\n",
       "      <td>5.539746e+07</td>\n",
       "      <td>122.000000</td>\n",
       "      <td>5.004477e+07</td>\n",
       "    </tr>\n",
       "    <tr>\n",
       "      <th>1975</th>\n",
       "      <td>4.122222e+06</td>\n",
       "      <td>9.392303e+07</td>\n",
       "      <td>119.333333</td>\n",
       "      <td>8.980081e+07</td>\n",
       "    </tr>\n",
       "    <tr>\n",
       "      <th>1976</th>\n",
       "      <td>8.033333e+06</td>\n",
       "      <td>4.999510e+07</td>\n",
       "      <td>118.333333</td>\n",
       "      <td>4.196177e+07</td>\n",
       "    </tr>\n",
       "    <tr>\n",
       "      <th>1977</th>\n",
       "      <td>7.307895e+06</td>\n",
       "      <td>9.906097e+07</td>\n",
       "      <td>108.789474</td>\n",
       "      <td>9.175308e+07</td>\n",
       "    </tr>\n",
       "    <tr>\n",
       "      <th>1978</th>\n",
       "      <td>9.774707e+06</td>\n",
       "      <td>6.889824e+07</td>\n",
       "      <td>122.882353</td>\n",
       "      <td>5.912353e+07</td>\n",
       "    </tr>\n",
       "    <tr>\n",
       "      <th>1979</th>\n",
       "      <td>1.441875e+07</td>\n",
       "      <td>7.381438e+07</td>\n",
       "      <td>115.437500</td>\n",
       "      <td>5.939563e+07</td>\n",
       "    </tr>\n",
       "    <tr>\n",
       "      <th>1980</th>\n",
       "      <td>1.391522e+07</td>\n",
       "      <td>5.748329e+07</td>\n",
       "      <td>113.304348</td>\n",
       "      <td>4.356807e+07</td>\n",
       "    </tr>\n",
       "    <tr>\n",
       "      <th>1981</th>\n",
       "      <td>9.725000e+06</td>\n",
       "      <td>5.373338e+07</td>\n",
       "      <td>105.133333</td>\n",
       "      <td>4.400838e+07</td>\n",
       "    </tr>\n",
       "    <tr>\n",
       "      <th>1982</th>\n",
       "      <td>1.322692e+07</td>\n",
       "      <td>8.290986e+07</td>\n",
       "      <td>112.653846</td>\n",
       "      <td>6.968294e+07</td>\n",
       "    </tr>\n",
       "    <tr>\n",
       "      <th>1983</th>\n",
       "      <td>1.565248e+07</td>\n",
       "      <td>6.420325e+07</td>\n",
       "      <td>107.677419</td>\n",
       "      <td>4.855077e+07</td>\n",
       "    </tr>\n",
       "    <tr>\n",
       "      <th>1984</th>\n",
       "      <td>1.364398e+07</td>\n",
       "      <td>5.729726e+07</td>\n",
       "      <td>108.619048</td>\n",
       "      <td>4.365329e+07</td>\n",
       "    </tr>\n",
       "    <tr>\n",
       "      <th>1985</th>\n",
       "      <td>1.454331e+07</td>\n",
       "      <td>5.519938e+07</td>\n",
       "      <td>104.658537</td>\n",
       "      <td>4.065607e+07</td>\n",
       "    </tr>\n",
       "    <tr>\n",
       "      <th>1986</th>\n",
       "      <td>1.310625e+07</td>\n",
       "      <td>4.780115e+07</td>\n",
       "      <td>105.125000</td>\n",
       "      <td>3.469489e+07</td>\n",
       "    </tr>\n",
       "    <tr>\n",
       "      <th>1987</th>\n",
       "      <td>1.323761e+07</td>\n",
       "      <td>5.994515e+07</td>\n",
       "      <td>103.304348</td>\n",
       "      <td>4.670754e+07</td>\n",
       "    </tr>\n",
       "    <tr>\n",
       "      <th>1988</th>\n",
       "      <td>1.448750e+07</td>\n",
       "      <td>5.582656e+07</td>\n",
       "      <td>104.642857</td>\n",
       "      <td>4.133906e+07</td>\n",
       "    </tr>\n",
       "    <tr>\n",
       "      <th>1989</th>\n",
       "      <td>1.898018e+07</td>\n",
       "      <td>8.964569e+07</td>\n",
       "      <td>106.705882</td>\n",
       "      <td>7.066551e+07</td>\n",
       "    </tr>\n",
       "    <tr>\n",
       "      <th>1990</th>\n",
       "      <td>2.257794e+07</td>\n",
       "      <td>8.776483e+07</td>\n",
       "      <td>108.207547</td>\n",
       "      <td>6.518689e+07</td>\n",
       "    </tr>\n",
       "    <tr>\n",
       "      <th>1991</th>\n",
       "      <td>2.630000e+07</td>\n",
       "      <td>8.726243e+07</td>\n",
       "      <td>109.720000</td>\n",
       "      <td>6.096243e+07</td>\n",
       "    </tr>\n",
       "    <tr>\n",
       "      <th>1992</th>\n",
       "      <td>2.289293e+07</td>\n",
       "      <td>9.596928e+07</td>\n",
       "      <td>112.830189</td>\n",
       "      <td>7.307634e+07</td>\n",
       "    </tr>\n",
       "    <tr>\n",
       "      <th>1993</th>\n",
       "      <td>2.223174e+07</td>\n",
       "      <td>8.578492e+07</td>\n",
       "      <td>111.236111</td>\n",
       "      <td>6.355317e+07</td>\n",
       "    </tr>\n",
       "    <tr>\n",
       "      <th>1994</th>\n",
       "      <td>2.933560e+07</td>\n",
       "      <td>1.052128e+08</td>\n",
       "      <td>109.274194</td>\n",
       "      <td>7.587717e+07</td>\n",
       "    </tr>\n",
       "    <tr>\n",
       "      <th>1995</th>\n",
       "      <td>3.235086e+07</td>\n",
       "      <td>1.015866e+08</td>\n",
       "      <td>111.543210</td>\n",
       "      <td>6.923578e+07</td>\n",
       "    </tr>\n",
       "    <tr>\n",
       "      <th>1996</th>\n",
       "      <td>3.468247e+07</td>\n",
       "      <td>8.975952e+07</td>\n",
       "      <td>109.639535</td>\n",
       "      <td>5.507705e+07</td>\n",
       "    </tr>\n",
       "    <tr>\n",
       "      <th>1997</th>\n",
       "      <td>4.475874e+07</td>\n",
       "      <td>1.156503e+08</td>\n",
       "      <td>114.722222</td>\n",
       "      <td>7.089157e+07</td>\n",
       "    </tr>\n",
       "    <tr>\n",
       "      <th>1998</th>\n",
       "      <td>4.295663e+07</td>\n",
       "      <td>1.002843e+08</td>\n",
       "      <td>111.271739</td>\n",
       "      <td>5.732767e+07</td>\n",
       "    </tr>\n",
       "    <tr>\n",
       "      <th>1999</th>\n",
       "      <td>4.239461e+07</td>\n",
       "      <td>9.785331e+07</td>\n",
       "      <td>109.043103</td>\n",
       "      <td>5.545870e+07</td>\n",
       "    </tr>\n",
       "    <tr>\n",
       "      <th>2000</th>\n",
       "      <td>4.565283e+07</td>\n",
       "      <td>1.033016e+08</td>\n",
       "      <td>109.169811</td>\n",
       "      <td>5.764882e+07</td>\n",
       "    </tr>\n",
       "    <tr>\n",
       "      <th>2001</th>\n",
       "      <td>4.319239e+07</td>\n",
       "      <td>1.094903e+08</td>\n",
       "      <td>109.008264</td>\n",
       "      <td>6.629789e+07</td>\n",
       "    </tr>\n",
       "    <tr>\n",
       "      <th>2002</th>\n",
       "      <td>4.287968e+07</td>\n",
       "      <td>1.143684e+08</td>\n",
       "      <td>107.119048</td>\n",
       "      <td>7.148870e+07</td>\n",
       "    </tr>\n",
       "    <tr>\n",
       "      <th>2003</th>\n",
       "      <td>4.591601e+07</td>\n",
       "      <td>1.219669e+08</td>\n",
       "      <td>107.966942</td>\n",
       "      <td>7.605087e+07</td>\n",
       "    </tr>\n",
       "    <tr>\n",
       "      <th>2004</th>\n",
       "      <td>4.532789e+07</td>\n",
       "      <td>1.121477e+08</td>\n",
       "      <td>106.904762</td>\n",
       "      <td>6.681977e+07</td>\n",
       "    </tr>\n",
       "    <tr>\n",
       "      <th>2005</th>\n",
       "      <td>4.190764e+07</td>\n",
       "      <td>9.871410e+07</td>\n",
       "      <td>109.717791</td>\n",
       "      <td>5.680646e+07</td>\n",
       "    </tr>\n",
       "    <tr>\n",
       "      <th>2006</th>\n",
       "      <td>4.091253e+07</td>\n",
       "      <td>9.254744e+07</td>\n",
       "      <td>108.189349</td>\n",
       "      <td>5.163491e+07</td>\n",
       "    </tr>\n",
       "    <tr>\n",
       "      <th>2007</th>\n",
       "      <td>4.240587e+07</td>\n",
       "      <td>1.136626e+08</td>\n",
       "      <td>107.701220</td>\n",
       "      <td>7.125673e+07</td>\n",
       "    </tr>\n",
       "    <tr>\n",
       "      <th>2008</th>\n",
       "      <td>4.285167e+07</td>\n",
       "      <td>1.141562e+08</td>\n",
       "      <td>107.891566</td>\n",
       "      <td>7.130454e+07</td>\n",
       "    </tr>\n",
       "    <tr>\n",
       "      <th>2009</th>\n",
       "      <td>4.332085e+07</td>\n",
       "      <td>1.241789e+08</td>\n",
       "      <td>107.000000</td>\n",
       "      <td>8.085808e+07</td>\n",
       "    </tr>\n",
       "    <tr>\n",
       "      <th>2010</th>\n",
       "      <td>4.754572e+07</td>\n",
       "      <td>1.224964e+08</td>\n",
       "      <td>106.702247</td>\n",
       "      <td>7.495069e+07</td>\n",
       "    </tr>\n",
       "    <tr>\n",
       "      <th>2011</th>\n",
       "      <td>4.241985e+07</td>\n",
       "      <td>1.176294e+08</td>\n",
       "      <td>106.170854</td>\n",
       "      <td>7.520952e+07</td>\n",
       "    </tr>\n",
       "    <tr>\n",
       "      <th>2012</th>\n",
       "      <td>4.831281e+07</td>\n",
       "      <td>1.538284e+08</td>\n",
       "      <td>107.324841</td>\n",
       "      <td>1.055156e+08</td>\n",
       "    </tr>\n",
       "    <tr>\n",
       "      <th>2013</th>\n",
       "      <td>4.759957e+07</td>\n",
       "      <td>1.352815e+08</td>\n",
       "      <td>109.138889</td>\n",
       "      <td>8.768191e+07</td>\n",
       "    </tr>\n",
       "    <tr>\n",
       "      <th>2014</th>\n",
       "      <td>4.481072e+07</td>\n",
       "      <td>1.458786e+08</td>\n",
       "      <td>109.296970</td>\n",
       "      <td>1.010679e+08</td>\n",
       "    </tr>\n",
       "    <tr>\n",
       "      <th>2015</th>\n",
       "      <td>4.481736e+07</td>\n",
       "      <td>1.637683e+08</td>\n",
       "      <td>110.868750</td>\n",
       "      <td>1.189509e+08</td>\n",
       "    </tr>\n",
       "  </tbody>\n",
       "</table>\n",
       "</div>"
      ],
      "text/plain": [
       "                    budget       revenue     runtime        profit\n",
       "release_year                                                      \n",
       "1960          4.161390e+06  2.580100e+07  130.000000  2.163961e+07\n",
       "1961          3.863700e+06  3.377202e+07  132.500000  2.990832e+07\n",
       "1962          5.635714e+06  2.947569e+07  141.285714  2.383998e+07\n",
       "1963          1.018583e+07  2.942115e+07  153.500000  1.923531e+07\n",
       "1964          4.847880e+06  4.694479e+07  122.428571  4.209691e+07\n",
       "1965          1.176000e+07  9.161637e+07  167.600000  7.985637e+07\n",
       "1966          6.453600e+06  1.694734e+07  132.200000  1.049374e+07\n",
       "1967          7.346154e+06  5.629497e+07  118.384615  4.894882e+07\n",
       "1968          5.994444e+06  2.469131e+07  130.777778  1.869686e+07\n",
       "1969          5.711022e+06  5.742677e+07  127.500000  5.171575e+07\n",
       "1970          8.718359e+06  4.999745e+07  121.454545  4.127909e+07\n",
       "1971          3.077077e+06  2.894513e+07  112.615385  2.586805e+07\n",
       "1972          2.958032e+06  6.011252e+07  113.000000  5.715449e+07\n",
       "1973          4.777250e+06  9.291776e+07  111.916667  8.814051e+07\n",
       "1974          5.352692e+06  5.539746e+07  122.000000  5.004477e+07\n",
       "1975          4.122222e+06  9.392303e+07  119.333333  8.980081e+07\n",
       "1976          8.033333e+06  4.999510e+07  118.333333  4.196177e+07\n",
       "1977          7.307895e+06  9.906097e+07  108.789474  9.175308e+07\n",
       "1978          9.774707e+06  6.889824e+07  122.882353  5.912353e+07\n",
       "1979          1.441875e+07  7.381438e+07  115.437500  5.939563e+07\n",
       "1980          1.391522e+07  5.748329e+07  113.304348  4.356807e+07\n",
       "1981          9.725000e+06  5.373338e+07  105.133333  4.400838e+07\n",
       "1982          1.322692e+07  8.290986e+07  112.653846  6.968294e+07\n",
       "1983          1.565248e+07  6.420325e+07  107.677419  4.855077e+07\n",
       "1984          1.364398e+07  5.729726e+07  108.619048  4.365329e+07\n",
       "1985          1.454331e+07  5.519938e+07  104.658537  4.065607e+07\n",
       "1986          1.310625e+07  4.780115e+07  105.125000  3.469489e+07\n",
       "1987          1.323761e+07  5.994515e+07  103.304348  4.670754e+07\n",
       "1988          1.448750e+07  5.582656e+07  104.642857  4.133906e+07\n",
       "1989          1.898018e+07  8.964569e+07  106.705882  7.066551e+07\n",
       "1990          2.257794e+07  8.776483e+07  108.207547  6.518689e+07\n",
       "1991          2.630000e+07  8.726243e+07  109.720000  6.096243e+07\n",
       "1992          2.289293e+07  9.596928e+07  112.830189  7.307634e+07\n",
       "1993          2.223174e+07  8.578492e+07  111.236111  6.355317e+07\n",
       "1994          2.933560e+07  1.052128e+08  109.274194  7.587717e+07\n",
       "1995          3.235086e+07  1.015866e+08  111.543210  6.923578e+07\n",
       "1996          3.468247e+07  8.975952e+07  109.639535  5.507705e+07\n",
       "1997          4.475874e+07  1.156503e+08  114.722222  7.089157e+07\n",
       "1998          4.295663e+07  1.002843e+08  111.271739  5.732767e+07\n",
       "1999          4.239461e+07  9.785331e+07  109.043103  5.545870e+07\n",
       "2000          4.565283e+07  1.033016e+08  109.169811  5.764882e+07\n",
       "2001          4.319239e+07  1.094903e+08  109.008264  6.629789e+07\n",
       "2002          4.287968e+07  1.143684e+08  107.119048  7.148870e+07\n",
       "2003          4.591601e+07  1.219669e+08  107.966942  7.605087e+07\n",
       "2004          4.532789e+07  1.121477e+08  106.904762  6.681977e+07\n",
       "2005          4.190764e+07  9.871410e+07  109.717791  5.680646e+07\n",
       "2006          4.091253e+07  9.254744e+07  108.189349  5.163491e+07\n",
       "2007          4.240587e+07  1.136626e+08  107.701220  7.125673e+07\n",
       "2008          4.285167e+07  1.141562e+08  107.891566  7.130454e+07\n",
       "2009          4.332085e+07  1.241789e+08  107.000000  8.085808e+07\n",
       "2010          4.754572e+07  1.224964e+08  106.702247  7.495069e+07\n",
       "2011          4.241985e+07  1.176294e+08  106.170854  7.520952e+07\n",
       "2012          4.831281e+07  1.538284e+08  107.324841  1.055156e+08\n",
       "2013          4.759957e+07  1.352815e+08  109.138889  8.768191e+07\n",
       "2014          4.481072e+07  1.458786e+08  109.296970  1.010679e+08\n",
       "2015          4.481736e+07  1.637683e+08  110.868750  1.189509e+08"
      ]
     },
     "execution_count": 316,
     "metadata": {},
     "output_type": "execute_result"
    }
   ],
   "source": [
    "df1.groupby('release_year')['budget', 'revenue', 'runtime', 'profit'].mean()"
   ]
  },
  {
   "cell_type": "markdown",
   "metadata": {},
   "source": [
    "<a id='conclusions'></a>\n",
    "## Conclusions\n",
    "\n",
    "> **Tip**: Finally, summarize your findings and the results that have been performed. Make sure that you are clear with regards to the limitations of your exploration. If you haven't done any statistical tests, do not imply any statistical conclusions. And make sure you avoid implying causation from correlation!\n",
    "\n",
    "> **Tip**: Once you are satisfied with your work, you should save a copy of the report in HTML or PDF form via the **File** > **Download as** submenu. Before exporting your report, check over it to make sure that the flow of the report is complete. You should probably remove all of the \"Tip\" quotes like this one so that the presentation is as tidy as possible. Congratulations!"
   ]
  },
  {
   "cell_type": "code",
   "execution_count": null,
   "metadata": {},
   "outputs": [],
   "source": []
  }
 ],
 "metadata": {
  "kernelspec": {
   "display_name": "Python 3 (ipykernel)",
   "language": "python",
   "name": "python3"
  },
  "language_info": {
   "codemirror_mode": {
    "name": "ipython",
    "version": 3
   },
   "file_extension": ".py",
   "mimetype": "text/x-python",
   "name": "python",
   "nbconvert_exporter": "python",
   "pygments_lexer": "ipython3",
   "version": "3.7.13"
  }
 },
 "nbformat": 4,
 "nbformat_minor": 2
}
